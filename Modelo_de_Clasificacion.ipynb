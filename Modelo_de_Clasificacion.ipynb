{
  "nbformat": 4,
  "nbformat_minor": 0,
  "metadata": {
    "colab": {
      "name": "Modelo de Clasificacion.ipynb",
      "provenance": [],
      "collapsed_sections": [],
      "mount_file_id": "1BJdrJPi6B7U8eltiokwVpqCumAr5Kaqh",
      "authorship_tag": "ABX9TyN2LkHVYa1kxI6sKTbKt9+r",
      "include_colab_link": true
    },
    "kernelspec": {
      "name": "python3",
      "display_name": "Python 3"
    },
    "language_info": {
      "name": "python"
    }
  },
  "cells": [
    {
      "cell_type": "markdown",
      "metadata": {
        "id": "view-in-github",
        "colab_type": "text"
      },
      "source": [
        "<a href=\"https://colab.research.google.com/github/DaniloRiver/Seminario-de-Investigacion-UNAH/blob/main/Modelo_de_Clasificacion.ipynb\" target=\"_parent\"><img src=\"https://colab.research.google.com/assets/colab-badge.svg\" alt=\"Open In Colab\"/></a>"
      ]
    },
    {
      "cell_type": "markdown",
      "metadata": {
        "id": "Ao6jnIHUefFs"
      },
      "source": [
        "#**Seminario de** **Investigación:** Regresión Logística\n",
        "\n"
      ]
    },
    {
      "cell_type": "markdown",
      "metadata": {
        "id": "d8FHsYGMsvX_"
      },
      "source": [
        "# Preliminares"
      ]
    },
    {
      "cell_type": "code",
      "metadata": {
        "id": "aR-zqfcVfAZc",
        "outputId": "0068a325-479a-4c4c-f382-2ab5332fbb7e",
        "colab": {
          "base_uri": "https://localhost:8080/"
        }
      },
      "source": [
        "#Librerias a Utilizar\n",
        "\n",
        "#!pip install imbalanced-learn\n",
        "#!pip install delayed\n",
        "\n",
        "import pandas as pd\n",
        "import numpy as np\n",
        "import matplotlib.pyplot as plt\n",
        "import seaborn as sns\n",
        "from sklearn.model_selection import train_test_split\n",
        "from sklearn.linear_model import LogisticRegression\n",
        "from sklearn.metrics import classification_report\n",
        "from sklearn.metrics import accuracy_score\n",
        "from sklearn.metrics import confusion_matrix\n",
        "from sklearn.metrics import roc_curve\n",
        "from sklearn.metrics import roc_auc_score\n",
        "\n",
        "from sklearn.metrics import precision_recall_curve,f1_score,auc\n",
        "from sklearn.decomposition import PCA\n",
        "from sklearn.model_selection import (cross_val_score,cross_val_predict,KFold)\n",
        "\n",
        "from pylab import rcParams\n",
        "from imblearn.under_sampling import NearMiss\n",
        "from imblearn.under_sampling import RandomUnderSampler\n",
        "from imblearn.over_sampling import RandomOverSampler\n",
        "from imblearn.ensemble import BalancedBaggingClassifier\n",
        "from collections import Counter\n",
        "\n",
        "\n",
        "\n"
      ],
      "execution_count": 1,
      "outputs": [
        {
          "output_type": "stream",
          "name": "stderr",
          "text": [
            "/usr/local/lib/python3.7/dist-packages/sklearn/externals/six.py:31: FutureWarning: The module is deprecated in version 0.21 and will be removed in version 0.23 since we've dropped support for Python 2.7. Please rely on the official version of six (https://pypi.org/project/six/).\n",
            "  \"(https://pypi.org/project/six/).\", FutureWarning)\n",
            "/usr/local/lib/python3.7/dist-packages/sklearn/utils/deprecation.py:144: FutureWarning: The sklearn.neighbors.base module is  deprecated in version 0.22 and will be removed in version 0.24. The corresponding classes / functions should instead be imported from sklearn.neighbors. Anything that cannot be imported from sklearn.neighbors is now part of the private API.\n",
            "  warnings.warn(message, FutureWarning)\n",
            "/usr/local/lib/python3.7/dist-packages/sklearn/utils/deprecation.py:144: FutureWarning: The sklearn.ensemble.bagging module is  deprecated in version 0.22 and will be removed in version 0.24. The corresponding classes / functions should instead be imported from sklearn.ensemble. Anything that cannot be imported from sklearn.ensemble is now part of the private API.\n",
            "  warnings.warn(message, FutureWarning)\n",
            "/usr/local/lib/python3.7/dist-packages/sklearn/utils/deprecation.py:144: FutureWarning: The sklearn.ensemble.base module is  deprecated in version 0.22 and will be removed in version 0.24. The corresponding classes / functions should instead be imported from sklearn.ensemble. Anything that cannot be imported from sklearn.ensemble is now part of the private API.\n",
            "  warnings.warn(message, FutureWarning)\n",
            "/usr/local/lib/python3.7/dist-packages/sklearn/utils/deprecation.py:144: FutureWarning: The sklearn.ensemble.forest module is  deprecated in version 0.22 and will be removed in version 0.24. The corresponding classes / functions should instead be imported from sklearn.ensemble. Anything that cannot be imported from sklearn.ensemble is now part of the private API.\n",
            "  warnings.warn(message, FutureWarning)\n",
            "/usr/local/lib/python3.7/dist-packages/sklearn/externals/joblib/__init__.py:15: FutureWarning: sklearn.externals.joblib is deprecated in 0.21 and will be removed in 0.23. Please import this functionality directly from joblib, which can be installed with: pip install joblib. If this warning is raised when loading pickled models, you may need to re-serialize those models with scikit-learn 0.21+.\n",
            "  warnings.warn(msg, category=FutureWarning)\n"
          ]
        }
      ]
    },
    {
      "cell_type": "code",
      "metadata": {
        "colab": {
          "base_uri": "https://localhost:8080/"
        },
        "id": "r4Yt-PxAthbd",
        "outputId": "fd5b8de1-31eb-4de9-8886-b166ff77b8a4"
      },
      "source": [
        "# scikit-learn version\n",
        "import sys\n",
        "import sklearn\n",
        "print('sklearn: %s' % sklearn.__version__)\n",
        "print(sys.version)\n",
        "import warnings\n",
        "warnings.filterwarnings(\"ignore\")"
      ],
      "execution_count": 2,
      "outputs": [
        {
          "output_type": "stream",
          "name": "stdout",
          "text": [
            "sklearn: 0.22.2.post1\n",
            "3.7.12 (default, Sep 10 2021, 00:21:48) \n",
            "[GCC 7.5.0]\n"
          ]
        }
      ]
    },
    {
      "cell_type": "code",
      "metadata": {
        "colab": {
          "base_uri": "https://localhost:8080/",
          "height": 0
        },
        "id": "XPXnfHihfmJ8",
        "outputId": "7f95f370-e427-4b76-bb98-7686c6da47e9"
      },
      "source": [
        "# Cargando el Dataset Diabetes\n",
        "url=\"https://raw.githubusercontent.com/DaniloRiver/Seminario-de-Investigacion-UNAH/main/diabetes.csv\"\n",
        "datos= pd.read_csv(url)\n",
        "datos.head()\n"
      ],
      "execution_count": 3,
      "outputs": [
        {
          "output_type": "execute_result",
          "data": {
            "text/html": [
              "<div>\n",
              "<style scoped>\n",
              "    .dataframe tbody tr th:only-of-type {\n",
              "        vertical-align: middle;\n",
              "    }\n",
              "\n",
              "    .dataframe tbody tr th {\n",
              "        vertical-align: top;\n",
              "    }\n",
              "\n",
              "    .dataframe thead th {\n",
              "        text-align: right;\n",
              "    }\n",
              "</style>\n",
              "<table border=\"1\" class=\"dataframe\">\n",
              "  <thead>\n",
              "    <tr style=\"text-align: right;\">\n",
              "      <th></th>\n",
              "      <th>Pregnancies</th>\n",
              "      <th>Glucose</th>\n",
              "      <th>BloodPressure</th>\n",
              "      <th>SkinThickness</th>\n",
              "      <th>Insulin</th>\n",
              "      <th>BMI</th>\n",
              "      <th>DiabetesPedigreeFunction</th>\n",
              "      <th>Age</th>\n",
              "      <th>Outcome</th>\n",
              "    </tr>\n",
              "  </thead>\n",
              "  <tbody>\n",
              "    <tr>\n",
              "      <th>0</th>\n",
              "      <td>6</td>\n",
              "      <td>148</td>\n",
              "      <td>72</td>\n",
              "      <td>35</td>\n",
              "      <td>0</td>\n",
              "      <td>33.6</td>\n",
              "      <td>0.627</td>\n",
              "      <td>50</td>\n",
              "      <td>1</td>\n",
              "    </tr>\n",
              "    <tr>\n",
              "      <th>1</th>\n",
              "      <td>1</td>\n",
              "      <td>85</td>\n",
              "      <td>66</td>\n",
              "      <td>29</td>\n",
              "      <td>0</td>\n",
              "      <td>26.6</td>\n",
              "      <td>0.351</td>\n",
              "      <td>31</td>\n",
              "      <td>0</td>\n",
              "    </tr>\n",
              "    <tr>\n",
              "      <th>2</th>\n",
              "      <td>8</td>\n",
              "      <td>183</td>\n",
              "      <td>64</td>\n",
              "      <td>0</td>\n",
              "      <td>0</td>\n",
              "      <td>23.3</td>\n",
              "      <td>0.672</td>\n",
              "      <td>32</td>\n",
              "      <td>1</td>\n",
              "    </tr>\n",
              "    <tr>\n",
              "      <th>3</th>\n",
              "      <td>1</td>\n",
              "      <td>89</td>\n",
              "      <td>66</td>\n",
              "      <td>23</td>\n",
              "      <td>94</td>\n",
              "      <td>28.1</td>\n",
              "      <td>0.167</td>\n",
              "      <td>21</td>\n",
              "      <td>0</td>\n",
              "    </tr>\n",
              "    <tr>\n",
              "      <th>4</th>\n",
              "      <td>0</td>\n",
              "      <td>137</td>\n",
              "      <td>40</td>\n",
              "      <td>35</td>\n",
              "      <td>168</td>\n",
              "      <td>43.1</td>\n",
              "      <td>2.288</td>\n",
              "      <td>33</td>\n",
              "      <td>1</td>\n",
              "    </tr>\n",
              "  </tbody>\n",
              "</table>\n",
              "</div>"
            ],
            "text/plain": [
              "   Pregnancies  Glucose  BloodPressure  ...  DiabetesPedigreeFunction  Age  Outcome\n",
              "0            6      148             72  ...                     0.627   50        1\n",
              "1            1       85             66  ...                     0.351   31        0\n",
              "2            8      183             64  ...                     0.672   32        1\n",
              "3            1       89             66  ...                     0.167   21        0\n",
              "4            0      137             40  ...                     2.288   33        1\n",
              "\n",
              "[5 rows x 9 columns]"
            ]
          },
          "metadata": {},
          "execution_count": 3
        }
      ]
    },
    {
      "cell_type": "markdown",
      "metadata": {
        "id": "om4mHKIktqkV"
      },
      "source": [
        "# Análisis Exploratorio"
      ]
    },
    {
      "cell_type": "code",
      "metadata": {
        "id": "k1yCcmNS2ppt"
      },
      "source": [
        "#Estadisticos para el Dataset\n",
        "datos.describe()\n",
        "Diabetes= datos"
      ],
      "execution_count": 4,
      "outputs": []
    },
    {
      "cell_type": "code",
      "metadata": {
        "colab": {
          "base_uri": "https://localhost:8080/"
        },
        "id": "fwN89kO_8XC9",
        "outputId": "9c64164b-e688-44c1-d7ed-3c9d6be4d302"
      },
      "source": [
        "# Utilizando los primeros 200 registros de Diabetes.csv (Dimensiones)\n",
        "#Diabetes=datos[:200]\n",
        "Diabetes.shape"
      ],
      "execution_count": 5,
      "outputs": [
        {
          "output_type": "execute_result",
          "data": {
            "text/plain": [
              "(768, 9)"
            ]
          },
          "metadata": {},
          "execution_count": 5
        }
      ]
    },
    {
      "cell_type": "code",
      "metadata": {
        "colab": {
          "base_uri": "https://localhost:8080/"
        },
        "id": "9RAyAkbjtQpV",
        "outputId": "ab6385f7-4dd9-4709-b7df-3c19096c28a6"
      },
      "source": [
        "# Utilizando los registros de Diabetes.csv (Dimensiones)\n",
        "Diabetes=datos\n",
        "print(Diabetes.shape)\n",
        "print(pd.value_counts(Diabetes['Outcome'], sort = True))"
      ],
      "execution_count": 6,
      "outputs": [
        {
          "output_type": "stream",
          "name": "stdout",
          "text": [
            "(768, 9)\n",
            "0    500\n",
            "1    268\n",
            "Name: Outcome, dtype: int64\n"
          ]
        }
      ]
    },
    {
      "cell_type": "code",
      "metadata": {
        "colab": {
          "base_uri": "https://localhost:8080/",
          "height": 0
        },
        "id": "rj1D5IQ5u9u7",
        "outputId": "6285c0c9-6c64-4767-94ce-2cba6528780d"
      },
      "source": [
        "#Recuento de Clases\n",
        "conteo_clases = pd.value_counts(Diabetes['Outcome'], sort = True)\n",
        "conteo_clases.plot(kind = 'bar', rot=0)\n",
        "plt.title(\"Frecuencia por número de observación\")\n",
        "plt.xlabel(\"Clases\")\n",
        "plt.ylabel(\"Numero de Observaciones\")\n",
        "plt.xticks(range(2),['sin diabetes','con diabetes'])\n",
        "plt.savefig('explorar.eps',format='eps',dpi=1200,transparent=True)"
      ],
      "execution_count": 7,
      "outputs": [
        {
          "output_type": "display_data",
          "data": {
            "image/png": "[encoded data removed]",
            "text/plain": [
              "<Figure size 432x288 with 1 Axes>"
            ]
          },
          "metadata": {
            "needs_background": "light"
          }
        }
      ]
    },
    {
      "cell_type": "code",
      "metadata": {
        "id": "kT_bvzutajhW"
      },
      "source": [
        "#sns.pairplot(Diabetes)\n",
        "#plt.tight_layout()"
      ],
      "execution_count": 8,
      "outputs": []
    },
    {
      "cell_type": "markdown",
      "metadata": {
        "id": "6PGjZdA-xZ6T"
      },
      "source": [
        "# Determinación de los Parametros Optimos para el Modelo"
      ]
    },
    {
      "cell_type": "code",
      "metadata": {
        "id": "sqF6uLN5-blH"
      },
      "source": [
        "#Funcion que Calcula la metrica AUC para cada parametro dentro del dataset\n",
        "def calcular_auc(variables, target, tabla_base):\n",
        "    X=tabla_base[variables]\n",
        "    y=tabla_base[target]\n",
        "    logreg = LogisticRegression()\n",
        "    logreg.fit(X, y)\n",
        "    predictor = logreg.predict_proba(X)[:,1]\n",
        "    auc = roc_auc_score(y, predictor)\n",
        "    return(auc)\n"
      ],
      "execution_count": 9,
      "outputs": []
    },
    {
      "cell_type": "code",
      "metadata": {
        "id": "zBlff4twFBUj"
      },
      "source": [
        "#Funcion que determina la mejor combinacion y cantidad de parametros a utilizar mediante Forward stepwise \n",
        "def next_best(variables_actuales,variables_candidatos, target, tabla_base):\n",
        "    best_auc = -1\n",
        "    best_variable = None\n",
        "    for v in variables_candidatos:\n",
        "        auc_v = calcular_auc(variables_actuales + [v], target, tabla_base)\n",
        "        if auc_v >= best_auc:\n",
        "            best_auc = auc_v\n",
        "            best_variable = v\n",
        "    return best_variable\n"
      ],
      "execution_count": 10,
      "outputs": []
    },
    {
      "cell_type": "code",
      "metadata": {
        "colab": {
          "base_uri": "https://localhost:8080/"
        },
        "id": "rgbM-MAdbgu8",
        "outputId": "47ff609f-142b-419f-80fc-e2ad971bff30"
      },
      "source": [
        "#Se utilizaran 6 de las 8 variables dentro del dataset con mejor AUC entre ellas\n",
        "variables_candidatos = ['Pregnancies','Glucose','SkinThickness','BloodPressure','DiabetesPedigreeFunction','Age','BMI']\n",
        "variables_actuales = []\n",
        "target = \"Outcome\"\n",
        "maximo_numero_variables = 6\n",
        "numero_iteraciones = min(maximo_numero_variables, len(variables_candidatos))\n",
        "for i in range(0,numero_iteraciones):\n",
        "    next_var = next_best(variables_actuales,variables_candidatos,target,Diabetes)\n",
        "    variables_actuales = variables_actuales + [next_var]\n",
        "    variables_candidatos.remove(next_var)\n",
        "print(variables_actuales)"
      ],
      "execution_count": 11,
      "outputs": [
        {
          "output_type": "stream",
          "name": "stdout",
          "text": [
            "['Glucose', 'BMI', 'Pregnancies', 'DiabetesPedigreeFunction', 'BloodPressure', 'Age']\n"
          ]
        }
      ]
    },
    {
      "cell_type": "code",
      "metadata": {
        "colab": {
          "base_uri": "https://localhost:8080/"
        },
        "id": "5x_hENjb_WxN",
        "outputId": "cd8bfa75-6b8b-4797-dde8-11e32020b80d"
      },
      "source": [
        "#Interpretacion de cada variable y su probabilidad AUC respectiva\n",
        "auc_valor = []\n",
        "variables_evaluadas = []\n",
        "for v in variables_actuales:\n",
        "    variables_evaluadas.append(v)\n",
        "    auc_valores = calcular_auc(variables_evaluadas, \"Outcome\", Diabetes)\n",
        "    auc_valor.append(auc_valores)\n",
        "\n",
        "for p,c in zip(variables_evaluadas,list(auc_valor)):\n",
        "    print(p + '\\t\\t' + str(round(c,2)))\n",
        "\n"
      ],
      "execution_count": 12,
      "outputs": [
        {
          "output_type": "stream",
          "name": "stdout",
          "text": [
            "Glucose\t\t0.79\n",
            "BMI\t\t0.81\n",
            "Pregnancies\t\t0.83\n",
            "DiabetesPedigreeFunction\t\t0.83\n",
            "BloodPressure\t\t0.84\n",
            "Age\t\t0.84\n"
          ]
        }
      ]
    },
    {
      "cell_type": "markdown",
      "metadata": {
        "id": "G60rbzKLv8sU"
      },
      "source": [
        "# División y Entrenamiento de los Datos"
      ]
    },
    {
      "cell_type": "code",
      "metadata": {
        "id": "ouA9PrL7cfs2"
      },
      "source": [
        "# Preparando las variables X, y del modelo  X=Matriz de Predictores , y= variable de resultados  1: con diabetes , 0: sin diabetes\n",
        "X=Diabetes[variables_evaluadas]\n",
        "y=Diabetes.Outcome"
      ],
      "execution_count": 13,
      "outputs": []
    },
    {
      "cell_type": "code",
      "metadata": {
        "id": "GK1zVTfHE_og"
      },
      "source": [
        "# implementacion de algoritmo de entrenamiento conjunto de prueba del 25% sobre el total del dataset, algoritmo de optimizacion:\n",
        "# El \"lbfgs\" es un algoritmo de optimización que se aproxima al algoritmo de Broyden-Fletcher-Goldfarb-Shanno ,que pertenece a los métodos cuasi-Newton. \n",
        "#\"lbfgs\" se utiliza por defecto por su robustez.\n",
        "\n",
        "X_train,X_test,y_train,y_test= train_test_split(X,y,test_size= 0.25,random_state=0)"
      ],
      "execution_count": 14,
      "outputs": []
    },
    {
      "cell_type": "code",
      "metadata": {
        "id": "QLiJU71nt-LQ"
      },
      "source": [
        "#  StandardScaler() normalizará las características (cada columna de X, INDIVIDUALMENTE !!!) \n",
        "#  para que cada columna/característica/variable tenga mean = 0 y standard deviation = 1.\n",
        "\n",
        "from sklearn.preprocessing import StandardScaler\n",
        "scaler=StandardScaler()\n",
        "scaler.fit(X_train)\n",
        "\n",
        "X_train=scaler.transform(X_train)\n",
        "X_test=scaler.transform(X_test)"
      ],
      "execution_count": 15,
      "outputs": []
    },
    {
      "cell_type": "markdown",
      "metadata": {
        "id": "A1qct9Yx5aHu"
      },
      "source": [
        "#Modelo con Parametros Modificados"
      ]
    },
    {
      "cell_type": "code",
      "metadata": {
        "colab": {
          "base_uri": "https://localhost:8080/"
        },
        "id": "S3H_rtvBG2mf",
        "outputId": "58ef0149-6b9c-4825-e2da-85039dd56d32"
      },
      "source": [
        "# Aplicacion del algoritmo de regresion logistica y entrenamiento de las variables X_train,y_train\n",
        "\n",
        "logreg =LogisticRegression()\n",
        "logreg.fit(X_train,y_train)"
      ],
      "execution_count": 16,
      "outputs": [
        {
          "output_type": "execute_result",
          "data": {
            "text/plain": [
              "LogisticRegression(C=1.0, class_weight=None, dual=False, fit_intercept=True,\n",
              "                   intercept_scaling=1, l1_ratio=None, max_iter=100,\n",
              "                   multi_class='auto', n_jobs=None, penalty='l2',\n",
              "                   random_state=None, solver='lbfgs', tol=0.0001, verbose=0,\n",
              "                   warm_start=False)"
            ]
          },
          "metadata": {},
          "execution_count": 16
        }
      ]
    },
    {
      "cell_type": "code",
      "metadata": {
        "colab": {
          "base_uri": "https://localhost:8080/"
        },
        "id": "6dZSgKTtI2kQ",
        "outputId": "d11107e8-2f64-4d6c-d518-9246eeb9a315"
      },
      "source": [
        "# coeficiente que corresponde a los coeficientes B (beta) que corresponden a los de la ecuacion de regresion logistica (pesos)\n",
        "logreg.coef_\n"
      ],
      "execution_count": 17,
      "outputs": [
        {
          "output_type": "execute_result",
          "data": {
            "text/plain": [
              "array([[ 0.98986246,  0.71087103,  0.29835728,  0.28849499, -0.19179062,\n",
              "         0.26128227]])"
            ]
          },
          "metadata": {},
          "execution_count": 17
        }
      ]
    },
    {
      "cell_type": "code",
      "metadata": {
        "colab": {
          "base_uri": "https://localhost:8080/"
        },
        "id": "ez48Jy_y3GAg",
        "outputId": "d7c640d7-0a77-4c4c-9107-8d85c062fd69"
      },
      "source": [
        "#prediciendo los datos de prueba en base al modelo creado \n",
        "y_pred=logreg.predict(X_test)\n",
        "#Matriz de confusion \n",
        "Matriz_confusion= confusion_matrix(y_test,y_pred)\n",
        "print(Matriz_confusion)\n",
        "print(classification_report(y_test,y_pred))"
      ],
      "execution_count": 18,
      "outputs": [
        {
          "output_type": "stream",
          "name": "stdout",
          "text": [
            "[[117  13]\n",
            " [ 26  36]]\n",
            "              precision    recall  f1-score   support\n",
            "\n",
            "           0       0.82      0.90      0.86       130\n",
            "           1       0.73      0.58      0.65        62\n",
            "\n",
            "    accuracy                           0.80       192\n",
            "   macro avg       0.78      0.74      0.75       192\n",
            "weighted avg       0.79      0.80      0.79       192\n",
            "\n"
          ]
        }
      ]
    },
    {
      "cell_type": "code",
      "metadata": {
        "colab": {
          "base_uri": "https://localhost:8080/",
          "height": 0
        },
        "id": "0eIrW4ZONZe-",
        "outputId": "c6cd3dd2-4ac6-4fa3-afe1-ecdf855ab44a"
      },
      "source": [
        "#Mapa de calor de la Matriz de confusion\n",
        "def confusion(Matriz_confusion):\n",
        "    nombre_clase=[0,1]\n",
        "    fig,ax= plt.subplots()\n",
        "    tick_marks=np.arange(len(nombre_clase))\n",
        "    plt.xticks(tick_marks,nombre_clase)\n",
        "    plt.yticks(tick_marks,nombre_clase)\n",
        "\n",
        "    sns.heatmap(pd.DataFrame(Matriz_confusion),annot=True,cmap='YlGnBu',fmt='g')\n",
        "    ax.xaxis.set_label_position('top')\n",
        "    plt.tight_layout()\n",
        "    plt.title(\"Matriz de confusión\",y=1.1)\n",
        "    plt.ylabel('Etiqueta Actual')\n",
        "    plt.xlabel('Etiqueta Predicción')\n",
        "    #plt.savefig('confusion1.eps',format='eps',dpi=1200)\n",
        "confusion(Matriz_confusion)"
      ],
      "execution_count": 19,
      "outputs": [
        {
          "output_type": "display_data",
          "data": {
            "image/png": "[encoded data removed]",
            "text/plain": [
              "<Figure size 432x288 with 2 Axes>"
            ]
          },
          "metadata": {
            "needs_background": "light"
          }
        }
      ]
    },
    {
      "cell_type": "code",
      "metadata": {
        "id": "it7tWXJsjf_x",
        "colab": {
          "base_uri": "https://localhost:8080/",
          "height": 0
        },
        "outputId": "9d39f9c5-3840-4527-d3d3-bfbb37843edd"
      },
      "source": [
        "#Lo que estamos viendo es exactamente la curva ROC del clasificador. Y nos da bastante información: en primer lugar nos dice que aumentando o disminuyendo lo suficiente \n",
        "#el threshold podemos conseguir que nuestro algoritmo de clasificación alcance un TPR o un FPR casi perfecto.\n",
        "#Cuando AUC es 0.7, significa que hay 70% de probabilidad de que el modelo pueda distinguir entre clase positiva y clase negativa. Esta es la peor situación.\n",
        "#Cuando el AUC es aproximadamente 0.5, el modelo no tiene capacidad de discriminación para distinguir entre clase positiva y clase negativa.\n",
        "\n",
        "y_pred_prob= logreg.predict_proba(X_test)[:,1]\n",
        "fpr_1, tpr_1,tresholds1= roc_curve(y_test,y_pred_prob)\n",
        "auc_score_1 = roc_auc_score(y_test, y_pred_prob)\n",
        "plt.plot(fpr_1,tpr_1,label=\"ROC, auc=\"+str(round(auc_score_1,2)))\n",
        "plt.legend(loc=4)\n",
        "plt.plot([0,1],[0,1],'k--')\n",
        "plt.title(\"Curva ROC\")\n",
        "plt.plot(fpr_1,tpr_1,label='Regresión Logistica')\n",
        "plt.xlabel('tasa de falsos positivos (1-especificidad)')\n",
        "plt.ylabel('tasa de verdaderos positivos (Recall)')\n",
        "#plt.savefig('roc1.eps',format='eps', dpi=1200,transparent=True)\n",
        "plt.show()"
      ],
      "execution_count": 20,
      "outputs": [
        {
          "output_type": "display_data",
          "data": {
            "image/png": "[encoded data removed]",
            "text/plain": [
              "<Figure size 432x288 with 1 Axes>"
            ]
          },
          "metadata": {
            "needs_background": "light"
          }
        }
      ]
    },
    {
      "cell_type": "code",
      "metadata": {
        "colab": {
          "base_uri": "https://localhost:8080/",
          "height": 0
        },
        "id": "Gv8OkgzI8KPs",
        "outputId": "5a559449-066d-47c6-c6d1-b41418062a72"
      },
      "source": [
        "from matplotlib import pyplot\n",
        "# predecimos probabilidades\n",
        "y_pred_prob= logreg.predict_proba(X_test)[:,1]\n",
        "# Sacamos los valores\n",
        "yhat = logreg.predict(X_test)\n",
        "lr_precision, lr_recall, _ = precision_recall_curve(y_test, y_pred_prob)\n",
        "lr_f1, lr_auc = f1_score(y_test, yhat), auc(lr_recall, lr_precision)\n",
        "# Resumimos \n",
        "print('Regresión Logística: f1=%.3f auc=%.3f' % (lr_f1, lr_auc))\n",
        "# trazar las curvas de recuperación de precisión\n",
        "no_skill = len(y_test[y_test==1]) / len(y_test)\n",
        "plt.plot([0, 1], [no_skill, no_skill], linestyle='--', label='Sin entrenar')\n",
        "plt.plot(lr_recall, lr_precision, marker='.', label='Regresión Logística')\n",
        "#Etiquetas de ejes\n",
        "plt.xlabel('Sensibilidad')\n",
        "plt.ylabel('Precisión')\n",
        "#plt.savefig('recall.eps',format='eps', dpi=1200,transparent=True)\n",
        "plt.legend()\n",
        "plt.show()\n",
        "\n",
        "\n"
      ],
      "execution_count": 21,
      "outputs": [
        {
          "output_type": "stream",
          "name": "stdout",
          "text": [
            "Regresión Logística: f1=0.649 auc=0.715\n"
          ]
        },
        {
          "output_type": "display_data",
          "data": {
            "image/png": "[encoded data removed]",
            "text/plain": [
              "<Figure size 432x288 with 1 Axes>"
            ]
          },
          "metadata": {
            "needs_background": "light"
          }
        }
      ]
    },
    {
      "cell_type": "markdown",
      "metadata": {
        "id": "3FmuotCYznD5"
      },
      "source": [
        "# Estrategias Para Validación y Remuestreo de los Datos (Disminuir el desbalanceo)"
      ]
    },
    {
      "cell_type": "markdown",
      "metadata": {
        "id": "2xDACMuF0PFS"
      },
      "source": [
        "**Estrategia: Penalización para compensar**"
      ]
    },
    {
      "cell_type": "code",
      "metadata": {
        "colab": {
          "base_uri": "https://localhost:8080/"
        },
        "id": "atAhOSws0fVE",
        "outputId": "56321e7a-5eaa-4ed1-9444-43f2a423bbbd"
      },
      "source": [
        "# Aplicacion del algoritmo de regresion logistica y entrenamiento de las variables X_train,y_train\n",
        "\n",
        "logreg_1 =LogisticRegression(class_weight='balanced')\n",
        "logreg_1.fit(X_train,y_train)\n",
        "y_pred_0=logreg_1.predict(X_test)\n",
        "y_pred_prob_1= logreg_1.predict_proba(X_test)[:,1]\n",
        "fpr_2, tpr_2,tresholds2= roc_curve(y_test,y_pred_prob_1)\n",
        "auc_score_2 = roc_auc_score(y_test, y_pred_prob_1)\n",
        "\n",
        "#Matriz de confusion \n",
        "Matriz_confusion_0= confusion_matrix(y_test,y_pred_0)\n",
        "print(Matriz_confusion_0)\n",
        "print(classification_report(y_test,y_pred_0))"
      ],
      "execution_count": 22,
      "outputs": [
        {
          "output_type": "stream",
          "name": "stdout",
          "text": [
            "[[104  26]\n",
            " [ 17  45]]\n",
            "              precision    recall  f1-score   support\n",
            "\n",
            "           0       0.86      0.80      0.83       130\n",
            "           1       0.63      0.73      0.68        62\n",
            "\n",
            "    accuracy                           0.78       192\n",
            "   macro avg       0.75      0.76      0.75       192\n",
            "weighted avg       0.79      0.78      0.78       192\n",
            "\n"
          ]
        }
      ]
    },
    {
      "cell_type": "markdown",
      "metadata": {
        "id": "lJ_Hq1AK0mxm"
      },
      "source": [
        "**Estrategia: Subsampling en la clase mayoritaria**"
      ]
    },
    {
      "cell_type": "code",
      "metadata": {
        "colab": {
          "base_uri": "https://localhost:8080/"
        },
        "id": "IfrpeBnXJiHq",
        "outputId": "70e5e082-ac40-4a59-cc8f-dc478f0a91f8"
      },
      "source": [
        "us = NearMiss(n_neighbors=3, version=2)\n",
        "X_train_res, y_train_res = us.fit_resample(X_train, y_train)\n",
        " \n",
        "print(\"Distribución antes del remuestreo {}\".format(Counter(y_train)))\n",
        "print(\"Distribución después del remuestreo{}\".format(Counter(y_train_res)))\n",
        "\n",
        "modelo1=LogisticRegression(C=1.0,penalty='l2',random_state=1,solver=\"newton-cg\")\n",
        "modelo1.fit(X_train_res, y_train_res)\n",
        "y_pred_1 = modelo1.predict(X_test)\n",
        "y_pred_prob_2= modelo1.predict_proba(X_test)[:,1]\n",
        "fpr_3, tpr_3,tresholds3= roc_curve(y_test,y_pred_prob_2)\n",
        "auc_score_3 = roc_auc_score(y_test, y_pred_prob_2)\n",
        "\n",
        "#Matriz de confusion\n",
        "Matriz_confusion_1= confusion_matrix(y_test,y_pred_1)\n",
        "print(Matriz_confusion_1)\n",
        "print(classification_report(y_test,y_pred_1))\n"
      ],
      "execution_count": 23,
      "outputs": [
        {
          "output_type": "stream",
          "name": "stdout",
          "text": [
            "Distribución antes del remuestreo Counter({0: 370, 1: 206})\n",
            "Distribución después del remuestreoCounter({0: 206, 1: 206})\n",
            "[[100  30]\n",
            " [ 19  43]]\n",
            "              precision    recall  f1-score   support\n",
            "\n",
            "           0       0.84      0.77      0.80       130\n",
            "           1       0.59      0.69      0.64        62\n",
            "\n",
            "    accuracy                           0.74       192\n",
            "   macro avg       0.71      0.73      0.72       192\n",
            "weighted avg       0.76      0.74      0.75       192\n",
            "\n"
          ]
        }
      ]
    },
    {
      "cell_type": "markdown",
      "metadata": {
        "id": "gnJsTisb1OcW"
      },
      "source": [
        "**Estrategia: Ensamble de Modelos con Balanceo**"
      ]
    },
    {
      "cell_type": "code",
      "metadata": {
        "colab": {
          "base_uri": "https://localhost:8080/"
        },
        "id": "-cq9fN0vUJgg",
        "outputId": "39291de4-a017-46bc-b973-69ec97f07cd6"
      },
      "source": [
        "bbc = BalancedBaggingClassifier(base_estimator=LogisticRegression(),\n",
        "                                sampling_strategy='auto',\n",
        "                                replacement=False,\n",
        "                                random_state=0)\n",
        " \n",
        "#Train the classifier.\n",
        "bbc.fit(X_train, y_train)\n",
        "y_pred_2 = bbc.predict(X_test)\n",
        "y_pred_prob_3= bbc.predict_proba(X_test)[:,1]\n",
        "fpr_4, tpr_4,tresholds4= roc_curve(y_test,y_pred_prob_3)\n",
        "auc_score_4 = roc_auc_score(y_test, y_pred_prob_3)\n",
        "Matriz_confusion_2= confusion_matrix(y_test,y_pred_2)\n",
        "print(Matriz_confusion_2)\n",
        "print(classification_report(y_test,y_pred_2))"
      ],
      "execution_count": 24,
      "outputs": [
        {
          "output_type": "stream",
          "name": "stdout",
          "text": [
            "[[104  26]\n",
            " [ 17  45]]\n",
            "              precision    recall  f1-score   support\n",
            "\n",
            "           0       0.86      0.80      0.83       130\n",
            "           1       0.63      0.73      0.68        62\n",
            "\n",
            "    accuracy                           0.78       192\n",
            "   macro avg       0.75      0.76      0.75       192\n",
            "weighted avg       0.79      0.78      0.78       192\n",
            "\n"
          ]
        }
      ]
    },
    {
      "cell_type": "markdown",
      "metadata": {
        "id": "m5ukbQcJ1jaZ"
      },
      "source": [
        "**Estrategia: Metodo UnderSampling**"
      ]
    },
    {
      "cell_type": "code",
      "metadata": {
        "colab": {
          "base_uri": "https://localhost:8080/"
        },
        "id": "bnQfDA0ubhgg",
        "outputId": "916b3060-d8cc-4b3b-f143-3841872d8e60"
      },
      "source": [
        "os = RandomUnderSampler()\n",
        "X_train_res, y_train_res = os.fit_resample(X_train, y_train)\n",
        "\n",
        "print(\"Distribution before resampling {}\".format(Counter(y_train)))\n",
        "print(\"Distribution labels after resampling {}\".format(Counter(y_train_res)))\n",
        "modelo2=LogisticRegression(C=1.0,penalty='l2',random_state=1,solver=\"newton-cg\")\n",
        "modelo2.fit(X_train_res, y_train_res)\n",
        "y_pred_3 = modelo2.predict(X_test)\n",
        "y_pred_prob_4= modelo2.predict_proba(X_test)[:,1]\n",
        "fpr_5, tpr_5,tresholds5= roc_curve(y_test,y_pred_prob_4)\n",
        "auc_score_5 = roc_auc_score(y_test, y_pred_prob_4)\n",
        "Matriz_confusion_3= confusion_matrix(y_test,y_pred_3)\n",
        "print(Matriz_confusion_3)\n",
        "print(classification_report(y_test,y_pred_3))\n"
      ],
      "execution_count": 25,
      "outputs": [
        {
          "output_type": "stream",
          "name": "stdout",
          "text": [
            "Distribution before resampling Counter({0: 370, 1: 206})\n",
            "Distribution labels after resampling Counter({0: 206, 1: 206})\n",
            "[[102  28]\n",
            " [ 17  45]]\n",
            "              precision    recall  f1-score   support\n",
            "\n",
            "           0       0.86      0.78      0.82       130\n",
            "           1       0.62      0.73      0.67        62\n",
            "\n",
            "    accuracy                           0.77       192\n",
            "   macro avg       0.74      0.76      0.74       192\n",
            "weighted avg       0.78      0.77      0.77       192\n",
            "\n"
          ]
        }
      ]
    },
    {
      "cell_type": "markdown",
      "metadata": {
        "id": "RE1hfwDN1y2H"
      },
      "source": [
        "**Estrategia: Oversampling de la clase minoritaria**"
      ]
    },
    {
      "cell_type": "code",
      "metadata": {
        "colab": {
          "base_uri": "https://localhost:8080/"
        },
        "id": "yE8RIZcyzd_6",
        "outputId": "6a4d4a41-8804-4b21-9157-dfd5c5d1b66e"
      },
      "source": [
        "os = RandomOverSampler()\n",
        "X_train_res, y_train_res = os.fit_resample(X_train, y_train)\n",
        "\n",
        "print (\"Distribution before resampling {}\".format(Counter(y_train)))\n",
        "print (\"Distribution labels after resampling {}\".format(Counter(y_train_res)))\n",
        "\n",
        "modelo3=LogisticRegression(C=1.0,penalty='l2',random_state=0)\n",
        "modelo3.fit(X_train_res, y_train_res)\n",
        "y_pred_4 = modelo3.predict(X_test)\n",
        "y_pred_prob_5= modelo3.predict_proba(X_test)[:,1]\n",
        "fpr_6, tpr_6,tresholds6= roc_curve(y_test,y_pred_prob_5)\n",
        "auc_score_6 = roc_auc_score(y_test, y_pred_prob_5)\n",
        "Matriz_confusion_4= confusion_matrix(y_test,y_pred_4)\n",
        "print(Matriz_confusion_4)\n",
        "print(classification_report(y_test,y_pred_4))"
      ],
      "execution_count": 26,
      "outputs": [
        {
          "output_type": "stream",
          "name": "stdout",
          "text": [
            "Distribution before resampling Counter({0: 370, 1: 206})\n",
            "Distribution labels after resampling Counter({0: 370, 1: 370})\n",
            "[[104  26]\n",
            " [ 17  45]]\n",
            "              precision    recall  f1-score   support\n",
            "\n",
            "           0       0.86      0.80      0.83       130\n",
            "           1       0.63      0.73      0.68        62\n",
            "\n",
            "    accuracy                           0.78       192\n",
            "   macro avg       0.75      0.76      0.75       192\n",
            "weighted avg       0.79      0.78      0.78       192\n",
            "\n"
          ]
        }
      ]
    },
    {
      "cell_type": "markdown",
      "metadata": {
        "id": "UibS7p2e1_Yt"
      },
      "source": [
        "**Estrategia: implementar K-Folds**"
      ]
    },
    {
      "cell_type": "code",
      "metadata": {
        "id": "Kpaxtgon1biR"
      },
      "source": [
        "kf=KFold(n_splits=10,shuffle=True,random_state=42)\n",
        "#for train,test in kf.split(Diabetes):\n",
        " # print(train)\n",
        "  #print(test)\n"
      ],
      "execution_count": 27,
      "outputs": []
    },
    {
      "cell_type": "code",
      "metadata": {
        "colab": {
          "base_uri": "https://localhost:8080/"
        },
        "id": "ImNft7tZ7aWl",
        "outputId": "bccebcdb-7ef5-4949-eb5e-081a36feb73d"
      },
      "source": [
        "#modelox=LogisticRegression()\n",
        "#modelox.fit(X,y)\n",
        "y_pred_6= cross_val_predict(logreg,X,y,cv=kf,n_jobs=-1)\n",
        "y_pred_prob_7= logreg.predict_proba(X_test)[:,1]\n",
        "fpr_8, tpr_8,tresholds8= roc_curve(y_test,y_pred_prob_7)\n",
        "auc_score_8 = roc_auc_score(y_test, y_pred_prob_7)\n",
        "Matriz_confusion_6= confusion_matrix(y,y_pred_6)\n",
        "print(Matriz_confusion_6)\n",
        "print(classification_report(y,y_pred_6))"
      ],
      "execution_count": 28,
      "outputs": [
        {
          "output_type": "stream",
          "name": "stdout",
          "text": [
            "[[435  65]\n",
            " [115 153]]\n",
            "              precision    recall  f1-score   support\n",
            "\n",
            "           0       0.79      0.87      0.83       500\n",
            "           1       0.70      0.57      0.63       268\n",
            "\n",
            "    accuracy                           0.77       768\n",
            "   macro avg       0.75      0.72      0.73       768\n",
            "weighted avg       0.76      0.77      0.76       768\n",
            "\n"
          ]
        }
      ]
    },
    {
      "cell_type": "markdown",
      "metadata": {
        "id": "gZN8Vn_rAmIM"
      },
      "source": [
        "#Representando las Estrategias en la Curva ROC"
      ]
    },
    {
      "cell_type": "code",
      "metadata": {
        "id": "i-cr084Eeam9"
      },
      "source": [
        "Estrategia =['Modelo -Parametros Modificados-','Penalización para compensar','Subsampling clase mayoritaria','Ensamble de Modelos con Balanceo','UnderSampling aleatorio',' Oversampling clase minoritaria',' implementar K-Folds']\n"
      ],
      "execution_count": 29,
      "outputs": []
    },
    {
      "cell_type": "code",
      "metadata": {
        "colab": {
          "base_uri": "https://localhost:8080/",
          "height": 0
        },
        "id": "9z4wVEUAd-zk",
        "outputId": "28c799c2-3529-49b5-89c5-a932d264d7b8"
      },
      "source": [
        "fig = plt.figure(figsize=(10,8))\n",
        "ax  = fig.add_subplot(111)\n",
        "    \n",
        "#ax.plot(fpr_1,tpr_1,label = [Estrategia[0], \"AUC ROC :\", round(auc_score_1,3)],linewidth=2,linestyle=\"solid\")\n",
        "ax.plot(fpr_2,tpr_2,label = [Estrategia[1], round(auc_score_2,3)],linewidth=2,linestyle=\"solid\")\n",
        "#ax.plot(fpr_3,tpr_3,label = [Estrategia[2], round(auc_score_3,3)],linewidth=2,linestyle=\"dotted\")\n",
        "#ax.plot(fpr_4,tpr_4,label = [Estrategia[3], round(auc_score_4,3)],linewidth=2,linestyle=\"dotted\")\n",
        "ax.plot(fpr_5,tpr_5,label = [Estrategia[4], round(auc_score_5,3)],linewidth=2,linestyle=\"solid\")\n",
        "ax.plot(fpr_6,tpr_6,label = [Estrategia[5], round(auc_score_6,3)],linewidth=2,linestyle=\"solid\")\n",
        "#ax.plot(fpr_8,tpr_8,label = [Estrategia[6], round(auc_score_8,3)],linewidth=2,linestyle=\"dotted\")\n",
        "\n",
        "ax.plot([0,1],[0,1],linewidth=2,linestyle=\"dashed\")\n",
        "ax.xaxis.label.set_size(18)\n",
        "ax.yaxis.label.set_size(18)\n",
        "plt.legend(loc=\"Mejor\",prop={'size':17})\n",
        "plt.title(\"CURVA-ROC & AREA BAJO LA CURVA\",fontsize=16)\n",
        "plt.xlabel(\"Tasa de falsos positivos\",fontsize=16)\n",
        "plt.ylabel(\"Tasa de verdaderos positivos\",fontsize=16)\n",
        "#plt.savefig('roc_auc.eps',format='eps',dpi=1000,transparent=False)\n",
        "plt.show()\n",
        "\n"
      ],
      "execution_count": 30,
      "outputs": [
        {
          "output_type": "display_data",
          "data": {
            "image/png": "[encoded data removed]",
            "text/plain": [
              "<Figure size 720x576 with 1 Axes>"
            ]
          },
          "metadata": {
            "needs_background": "light"
          }
        }
      ]
    },
    {
      "cell_type": "markdown",
      "metadata": {
        "id": "nvcCHeSo6OJr"
      },
      "source": [
        "# Curva Recall-Precision"
      ]
    },
    {
      "cell_type": "code",
      "metadata": {
        "colab": {
          "base_uri": "https://localhost:8080/",
          "height": 0
        },
        "id": "Fx0j7zI6Cs-j",
        "outputId": "5897c79a-b22a-4f3f-ce49-23cd3034719b"
      },
      "source": [
        "def Grafica_Recall_Precision(modelo,X_test,y_pred_prob,y_test):\n",
        "    # Sacamos los valores\n",
        "    yhat = modelo.predict(X_test)\n",
        "    lr_precision, lr_recall, _ = precision_recall_curve(y_test, y_pred_prob)\n",
        "    lr_f1, lr_auc = f1_score(y_test, yhat), auc(lr_recall, lr_precision)\n",
        "    # Resumimos \n",
        "    # trazar las curvas de recuperación de precisión\n",
        "    no_skill = len(y_test[y_test==1]) / len(y_test)\n",
        "    plt.plot([0, 1], [no_skill, no_skill], linestyle='--', label='Sin entrenar')\n",
        "    plt.plot(lr_recall, lr_precision, marker='.', label='Regresión Logística')\n",
        "    #Etiquetas de ejes\n",
        "    plt.xlabel('Sensibilidad')\n",
        "    plt.ylabel('Precisión')\n",
        "    plt.title('Regresión Logística: f1=%.3f auc=%.3f' % (lr_f1, lr_auc))\n",
        "    plt.legend()\n",
        "    #plt.savefig('recall1.eps',format='eps')\n",
        "    plt.show()\n",
        "\n",
        "\n",
        "print('Estrategia Penalización por Compensación')\n",
        "Grafica_Recall_Precision(logreg_1,X_test,y_pred_prob_1,y_test)\n",
        "\n",
        "print('\\nEstrategia Oversampling en la clase minoritaria')\n",
        "Grafica_Recall_Precision(modelo3,X_test,y_pred_prob_5,y_test)\n",
        "\n",
        "print('\\nEstrategia solo Parametros Modificados')\n",
        "Grafica_Recall_Precision(logreg,X_test,y_pred_prob,y_test)\n",
        "\n",
        "print('\\nEstrategia: Undersampling Aleatorio')\n",
        "Grafica_Recall_Precision(modelo2,X_test,y_pred_prob_4,y_test)"
      ],
      "execution_count": 31,
      "outputs": [
        {
          "output_type": "stream",
          "name": "stdout",
          "text": [
            "Estrategia Penalización por Compensación\n"
          ]
        },
        {
          "output_type": "display_data",
          "data": {
            "image/png": "[encoded data removed]",
            "text/plain": [
              "<Figure size 432x288 with 1 Axes>"
            ]
          },
          "metadata": {
            "needs_background": "light"
          }
        },
        {
          "output_type": "stream",
          "name": "stdout",
          "text": [
            "\n",
            "Estrategia Oversampling en la clase minoritaria\n"
          ]
        },
        {
          "output_type": "display_data",
          "data": {
            "image/png": "[encoded data removed]",
            "text/plain": [
              "<Figure size 432x288 with 1 Axes>"
            ]
          },
          "metadata": {
            "needs_background": "light"
          }
        },
        {
          "output_type": "stream",
          "name": "stdout",
          "text": [
            "\n",
            "Estrategia solo Parametros Modificados\n"
          ]
        },
        {
          "output_type": "display_data",
          "data": {
            "image/png": "[encoded data removed]",
            "text/plain": [
              "<Figure size 432x288 with 1 Axes>"
            ]
          },
          "metadata": {
            "needs_background": "light"
          }
        },
        {
          "output_type": "stream",
          "name": "stdout",
          "text": [
            "\n",
            "Estrategia: Undersampling Aleatorio\n"
          ]
        },
        {
          "output_type": "display_data",
          "data": {
            "image/png": "[encoded data removed]",
            "text/plain": [
              "<Figure size 432x288 with 1 Axes>"
            ]
          },
          "metadata": {
            "needs_background": "light"
          }
        }
      ]
    }
  ]
}