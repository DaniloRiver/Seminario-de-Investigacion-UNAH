{
  "nbformat": 4,
  "nbformat_minor": 0,
  "metadata": {
    "colab": {
      "name": "Arbol_de_Decision.ipynb",
      "provenance": [],
      "authorship_tag": "ABX9TyN+JUHAf8yLll85/ZG0iuK0",
      "include_colab_link": true
    },
    "kernelspec": {
      "name": "python3",
      "display_name": "Python 3"
    },
    "language_info": {
      "name": "python"
    }
  },
  "cells": [
    {
      "cell_type": "markdown",
      "metadata": {
        "id": "view-in-github",
        "colab_type": "text"
      },
      "source": [
        "<a href=\"https://colab.research.google.com/github/DaniloRiver/Seminario-de-Investigacion-UNAH/blob/main/Arbol_de_Decision.ipynb\" target=\"_parent\"><img src=\"https://colab.research.google.com/assets/colab-badge.svg\" alt=\"Open In Colab\"/></a>"
      ]
    },
    {
      "cell_type": "markdown",
      "metadata": {
        "id": "PQkwgFc4tWQg"
      },
      "source": [
        "# Preliminares"
      ]
    },
    {
      "cell_type": "code",
      "metadata": {
        "id": "MhZLq2gCi2dI"
      },
      "source": [
        "#Librerias a Utilizar\n",
        "#!pip install pycaret==2.2.3\n",
        "\n",
        "import pandas as pd\n",
        "import numpy as np\n",
        "import matplotlib.pyplot as plt\n",
        "import seaborn as sns\n",
        "#from pycaret.datasets import get_data\n",
        "from sklearn.model_selection import train_test_split\n",
        "from sklearn.tree import DecisionTreeClassifier\n",
        "from sklearn.metrics import classification_report\n",
        "from sklearn.metrics import accuracy_score\n",
        "from sklearn.metrics import confusion_matrix\n",
        "from sklearn.metrics import roc_curve\n",
        "from sklearn.metrics import roc_auc_score\n",
        "\n",
        "from sklearn.tree import export_graphviz\n",
        "from pydotplus import graph_from_dot_data\n",
        "\n",
        "from sklearn.metrics import precision_recall_curve,f1_score,auc\n",
        "from sklearn.decomposition import PCA\n",
        "from sklearn.model_selection import (cross_val_score,cross_val_predict,KFold)\n",
        "\n",
        "\n",
        "\n",
        "import warnings\n",
        "warnings.filterwarnings(\"ignore\")"
      ],
      "execution_count": 1,
      "outputs": []
    },
    {
      "cell_type": "code",
      "metadata": {
        "colab": {
          "base_uri": "https://localhost:8080/",
          "height": 204
        },
        "id": "9dwTxoE0jqcO",
        "outputId": "a1224894-b14a-4cf4-c72c-d2123544ad8b"
      },
      "source": [
        "# Cargando el Dataset Diabetes\n",
        "url=\"https://raw.githubusercontent.com/DaniloRiver/Seminario-de-Investigacion-UNAH/main/diabetes.csv\"\n",
        "Diabetes= pd.read_csv(url)\n",
        "Diabetes.head()"
      ],
      "execution_count": 3,
      "outputs": [
        {
          "output_type": "execute_result",
          "data": {
            "text/html": [
              "<div>\n",
              "<style scoped>\n",
              "    .dataframe tbody tr th:only-of-type {\n",
              "        vertical-align: middle;\n",
              "    }\n",
              "\n",
              "    .dataframe tbody tr th {\n",
              "        vertical-align: top;\n",
              "    }\n",
              "\n",
              "    .dataframe thead th {\n",
              "        text-align: right;\n",
              "    }\n",
              "</style>\n",
              "<table border=\"1\" class=\"dataframe\">\n",
              "  <thead>\n",
              "    <tr style=\"text-align: right;\">\n",
              "      <th></th>\n",
              "      <th>Pregnancies</th>\n",
              "      <th>Glucose</th>\n",
              "      <th>BloodPressure</th>\n",
              "      <th>SkinThickness</th>\n",
              "      <th>Insulin</th>\n",
              "      <th>BMI</th>\n",
              "      <th>DiabetesPedigreeFunction</th>\n",
              "      <th>Age</th>\n",
              "      <th>Outcome</th>\n",
              "    </tr>\n",
              "  </thead>\n",
              "  <tbody>\n",
              "    <tr>\n",
              "      <th>0</th>\n",
              "      <td>6</td>\n",
              "      <td>148</td>\n",
              "      <td>72</td>\n",
              "      <td>35</td>\n",
              "      <td>0</td>\n",
              "      <td>33.6</td>\n",
              "      <td>0.627</td>\n",
              "      <td>50</td>\n",
              "      <td>1</td>\n",
              "    </tr>\n",
              "    <tr>\n",
              "      <th>1</th>\n",
              "      <td>1</td>\n",
              "      <td>85</td>\n",
              "      <td>66</td>\n",
              "      <td>29</td>\n",
              "      <td>0</td>\n",
              "      <td>26.6</td>\n",
              "      <td>0.351</td>\n",
              "      <td>31</td>\n",
              "      <td>0</td>\n",
              "    </tr>\n",
              "    <tr>\n",
              "      <th>2</th>\n",
              "      <td>8</td>\n",
              "      <td>183</td>\n",
              "      <td>64</td>\n",
              "      <td>0</td>\n",
              "      <td>0</td>\n",
              "      <td>23.3</td>\n",
              "      <td>0.672</td>\n",
              "      <td>32</td>\n",
              "      <td>1</td>\n",
              "    </tr>\n",
              "    <tr>\n",
              "      <th>3</th>\n",
              "      <td>1</td>\n",
              "      <td>89</td>\n",
              "      <td>66</td>\n",
              "      <td>23</td>\n",
              "      <td>94</td>\n",
              "      <td>28.1</td>\n",
              "      <td>0.167</td>\n",
              "      <td>21</td>\n",
              "      <td>0</td>\n",
              "    </tr>\n",
              "    <tr>\n",
              "      <th>4</th>\n",
              "      <td>0</td>\n",
              "      <td>137</td>\n",
              "      <td>40</td>\n",
              "      <td>35</td>\n",
              "      <td>168</td>\n",
              "      <td>43.1</td>\n",
              "      <td>2.288</td>\n",
              "      <td>33</td>\n",
              "      <td>1</td>\n",
              "    </tr>\n",
              "  </tbody>\n",
              "</table>\n",
              "</div>"
            ],
            "text/plain": [
              "   Pregnancies  Glucose  BloodPressure  ...  DiabetesPedigreeFunction  Age  Outcome\n",
              "0            6      148             72  ...                     0.627   50        1\n",
              "1            1       85             66  ...                     0.351   31        0\n",
              "2            8      183             64  ...                     0.672   32        1\n",
              "3            1       89             66  ...                     0.167   21        0\n",
              "4            0      137             40  ...                     2.288   33        1\n",
              "\n",
              "[5 rows x 9 columns]"
            ]
          },
          "metadata": {},
          "execution_count": 3
        }
      ]
    },
    {
      "cell_type": "code",
      "metadata": {
        "id": "oORXd-nEjs7c",
        "colab": {
          "base_uri": "https://localhost:8080/"
        },
        "outputId": "4f84c6a3-ea19-414d-a09b-054aee3bac90"
      },
      "source": [
        "# Preparando las variables X, y del modelo  X=Matriz de Predictores , y= variable de resultados  1: con diabetes , 0: sin diabetes\n",
        "variables_evaluadas=['Pregnancies',\t'Glucose',\t'BloodPressure',\t'SkinThickness',\t'Insulin',\t'BMI',\t'DiabetesPedigreeFunction',\t'Age']\n",
        "#variables_evaluadas=['Glucose', 'BMI', 'Pregnancies', 'DiabetesPedigreeFunction', 'BloodPressure', 'Age','Insulin']\n",
        "X=Diabetes[variables_evaluadas]\n",
        "y=Diabetes.Outcome\n",
        "Diabetes.shape"
      ],
      "execution_count": 4,
      "outputs": [
        {
          "output_type": "execute_result",
          "data": {
            "text/plain": [
              "(768, 9)"
            ]
          },
          "metadata": {},
          "execution_count": 4
        }
      ]
    },
    {
      "cell_type": "code",
      "metadata": {
        "id": "1_XPuiAQzNm-"
      },
      "source": [
        "def plot_2d_space(X, y, label='default'):   \n",
        "    colors = ['#1F77B4', '#FF7F0E']\n",
        "    markers = ['o', 's']\n",
        "    for l, c, m in zip(np.unique(y), colors, markers):\n",
        "        plt.scatter(\n",
        "            X[y==l, 0],\n",
        "            X[y==l, 1],\n",
        "            c=c, label=l, marker=m\n",
        "        )\n",
        "    plt.title(label)\n",
        "    plt.legend(loc='upper right')\n",
        "    plt.show()"
      ],
      "execution_count": 5,
      "outputs": []
    },
    {
      "cell_type": "code",
      "metadata": {
        "colab": {
          "base_uri": "https://localhost:8080/",
          "height": 281
        },
        "id": "wZGF09vuyq62",
        "outputId": "1e895f6c-7d53-4999-b799-03eafd94f449"
      },
      "source": [
        "pca = PCA(n_components=2)\n",
        "X_pca = pca.fit_transform(X)\n",
        "\n",
        "plot_2d_space(X_pca, y, 'Conjunto de datos desequilibrado(2 PCA componentes)')"
      ],
      "execution_count": 6,
      "outputs": [
        {
          "output_type": "display_data",
          "data": {
            "image/png": "[encoded data removed]",
            "text/plain": [
              "<Figure size 432x288 with 1 Axes>"
            ]
          },
          "metadata": {
            "needs_background": "light"
          }
        }
      ]
    },
    {
      "cell_type": "markdown",
      "metadata": {
        "id": "V-DZGmjem72H"
      },
      "source": [
        "#Under-sampling: enlaces de Tomek"
      ]
    },
    {
      "cell_type": "code",
      "metadata": {
        "id": "Y8LYaUSRz5FD",
        "colab": {
          "base_uri": "https://localhost:8080/",
          "height": 0
        },
        "outputId": "416cb3ef-9344-431a-db4e-475a67eea8b6"
      },
      "source": [
        "from imblearn.under_sampling import TomekLinks\n",
        "\n",
        "tl = TomekLinks()\n",
        "X_tl, y_tl = tl.fit_resample(X, y)\n",
        "\n",
        "plot_2d_space(X_tl, y_tl, 'Tomek enlaces submuestreo')"
      ],
      "execution_count": 7,
      "outputs": [
        {
          "output_type": "display_data",
          "data": {
            "image/png": "[encoded data removed]",
            "text/plain": [
              "<Figure size 432x288 with 1 Axes>"
            ]
          },
          "metadata": {
            "needs_background": "light"
          }
        }
      ]
    },
    {
      "cell_type": "code",
      "metadata": {
        "id": "mignM2GCnOWz"
      },
      "source": [
        "# implementacion de algoritmo de entrenamiento conjunto de prueba del 25% sobre el total del dataset, algoritmo de optimizacion:\n",
        "# El \"lbfgs\" es un algoritmo de optimización que se aproxima al algoritmo de Broyden-Fletcher-Goldfarb-Shanno ,que pertenece a los métodos cuasi-Newton. \n",
        "#\"lbfgs\" se utiliza por defecto por su robustez.\n",
        "\n",
        "X_train,X_test,y_train,y_test= train_test_split(X_tl,y_tl,test_size= 0.20,random_state=1)"
      ],
      "execution_count": 8,
      "outputs": []
    },
    {
      "cell_type": "code",
      "metadata": {
        "id": "dQeXWLtfnSN_"
      },
      "source": [
        "Arbol0=DecisionTreeClassifier(max_depth=5,random_state=1)\n",
        "Arbol0.fit(X_test,y_test)\n",
        "y_pred= Arbol0.predict(X_test)"
      ],
      "execution_count": 9,
      "outputs": []
    },
    {
      "cell_type": "code",
      "metadata": {
        "colab": {
          "base_uri": "https://localhost:8080/"
        },
        "id": "oAs-bxuKnU0Q",
        "outputId": "59fc856b-fb82-45e4-b7d3-30eac9f524cc"
      },
      "source": [
        "#prediciendo los datos de prueba en base al modelo creado \n",
        "y_pred=Arbol0.predict(X_test)\n",
        "#Matriz de confusion \n",
        "Matriz_confusion= confusion_matrix(y_test,y_pred)\n",
        "print(Matriz_confusion)\n",
        "print(classification_report(y_test,y_pred))"
      ],
      "execution_count": 10,
      "outputs": [
        {
          "output_type": "stream",
          "name": "stdout",
          "text": [
            "[[81  6]\n",
            " [ 4 52]]\n",
            "              precision    recall  f1-score   support\n",
            "\n",
            "           0       0.95      0.93      0.94        87\n",
            "           1       0.90      0.93      0.91        56\n",
            "\n",
            "    accuracy                           0.93       143\n",
            "   macro avg       0.92      0.93      0.93       143\n",
            "weighted avg       0.93      0.93      0.93       143\n",
            "\n"
          ]
        }
      ]
    },
    {
      "cell_type": "markdown",
      "metadata": {
        "id": "Bafz0tsd1Fty"
      },
      "source": [
        "#Under-sampling: Cluster Centroids \n",
        "Esta técnica realiza un submuestreo mediante la generación de centroides basados en métodos de agrupación. Los datos se agruparán previamente por similitud, con el fin de preservar la información."
      ]
    },
    {
      "cell_type": "code",
      "metadata": {
        "id": "IJelOhit07ys"
      },
      "source": [
        "from imblearn.under_sampling import ClusterCentroids\n",
        "\n",
        "cc = ClusterCentroids()\n",
        "X_cc, y_cc = cc.fit_resample(X, y)\n"
      ],
      "execution_count": 13,
      "outputs": []
    },
    {
      "cell_type": "code",
      "metadata": {
        "id": "LBnsGWeEkShP"
      },
      "source": [
        "# implementacion de algoritmo de entrenamiento conjunto de prueba del 25% sobre el total del dataset, algoritmo de optimizacion:\n",
        "# El \"lbfgs\" es un algoritmo de optimización que se aproxima al algoritmo de Broyden-Fletcher-Goldfarb-Shanno ,que pertenece a los métodos cuasi-Newton. \n",
        "#\"lbfgs\" se utiliza por defecto por su robustez.\n",
        "\n",
        "X_train,X_test,y_train,y_test= train_test_split(X_cc,y_cc,test_size= 0.20,random_state=1)"
      ],
      "execution_count": 14,
      "outputs": []
    },
    {
      "cell_type": "code",
      "metadata": {
        "id": "_Ui4M97TkhuO"
      },
      "source": [
        "Arbol=DecisionTreeClassifier(max_depth=5,random_state=1)\n",
        "Arbol.fit(X_test,y_test)\n",
        "y_pred= Arbol.predict(X_test)"
      ],
      "execution_count": 15,
      "outputs": []
    },
    {
      "cell_type": "code",
      "metadata": {
        "colab": {
          "base_uri": "https://localhost:8080/"
        },
        "id": "ez48Jy_y3GAg",
        "outputId": "8f8c0ba8-08fb-482c-b8c4-adb35f6dbff7"
      },
      "source": [
        "#prediciendo los datos de prueba en base al modelo creado \n",
        "y_pred=Arbol.predict(X_test)\n",
        "#Matriz de confusion \n",
        "Matriz_confusion= confusion_matrix(y_test,y_pred)\n",
        "print(Matriz_confusion)\n",
        "print(classification_report(y_test,y_pred))"
      ],
      "execution_count": 16,
      "outputs": [
        {
          "output_type": "stream",
          "name": "stdout",
          "text": [
            "[[42  9]\n",
            " [ 3 54]]\n",
            "              precision    recall  f1-score   support\n",
            "\n",
            "           0       0.93      0.82      0.87        51\n",
            "           1       0.86      0.95      0.90        57\n",
            "\n",
            "    accuracy                           0.89       108\n",
            "   macro avg       0.90      0.89      0.89       108\n",
            "weighted avg       0.89      0.89      0.89       108\n",
            "\n"
          ]
        }
      ]
    },
    {
      "cell_type": "markdown",
      "metadata": {
        "id": "fkO5GM75BPhp"
      },
      "source": [
        "#ADASYN"
      ]
    },
    {
      "cell_type": "code",
      "metadata": {
        "id": "-ujOZZqUBMGw"
      },
      "source": [
        "from imblearn.over_sampling import ADASYN\n",
        "\n",
        "X_resampled, y_resampled = ADASYN(random_state=123).fit_resample(X, y)"
      ],
      "execution_count": 20,
      "outputs": []
    },
    {
      "cell_type": "code",
      "metadata": {
        "id": "K1dJSiiFi-Xi"
      },
      "source": [
        "# implementacion de algoritmo de entrenamiento conjunto de prueba del 25% sobre el total del dataset, algoritmo de optimizacion:\n",
        "# El \"lbfgs\" es un algoritmo de optimización que se aproxima al algoritmo de Broyden-Fletcher-Goldfarb-Shanno ,que pertenece a los métodos cuasi-Newton. \n",
        "#\"lbfgs\" se utiliza por defecto por su robustez.\n",
        "\n",
        "X_train,X_test,y_train,y_test= train_test_split(X_resampled,y_resampled,test_size= 0.20,random_state=1)"
      ],
      "execution_count": 21,
      "outputs": []
    },
    {
      "cell_type": "code",
      "metadata": {
        "id": "ich2VrnwjDdi"
      },
      "source": [
        "Arbol1=DecisionTreeClassifier(max_depth=5,random_state=1)\n",
        "Arbol1.fit(X_test,y_test)\n",
        "y_pred= Arbol1.predict(X_test)"
      ],
      "execution_count": 22,
      "outputs": []
    },
    {
      "cell_type": "code",
      "metadata": {
        "colab": {
          "base_uri": "https://localhost:8080/"
        },
        "id": "pPBX98iHjv_U",
        "outputId": "26c1a9e6-7999-4efc-fc82-81a9f4cde19c"
      },
      "source": [
        "#prediciendo los datos de prueba en base al modelo creado \n",
        "y_pred=Arbol1.predict(X_test)\n",
        "#Matriz de confusion \n",
        "Matriz_confusion= confusion_matrix(y_test,y_pred)\n",
        "print(Matriz_confusion)\n",
        "print(classification_report(y_test,y_pred))"
      ],
      "execution_count": 23,
      "outputs": [
        {
          "output_type": "stream",
          "name": "stdout",
          "text": [
            "[[99  6]\n",
            " [12 78]]\n",
            "              precision    recall  f1-score   support\n",
            "\n",
            "           0       0.89      0.94      0.92       105\n",
            "           1       0.93      0.87      0.90        90\n",
            "\n",
            "    accuracy                           0.91       195\n",
            "   macro avg       0.91      0.90      0.91       195\n",
            "weighted avg       0.91      0.91      0.91       195\n",
            "\n"
          ]
        }
      ]
    },
    {
      "cell_type": "markdown",
      "metadata": {
        "id": "JkoAj9rpnouw"
      },
      "source": [
        "\n",
        "\n",
        "#Over-sampling seguido por under-sampling\n",
        "\n"
      ]
    },
    {
      "cell_type": "code",
      "metadata": {
        "id": "gN4qR05onnPO"
      },
      "source": [
        "from imblearn.combine import SMOTEENN\n",
        "\n",
        "X_resampled1, y_resampled1 = SMOTEENN(random_state=123).fit_resample(X, y)"
      ],
      "execution_count": 24,
      "outputs": []
    },
    {
      "cell_type": "code",
      "metadata": {
        "id": "09G8RryMofw4"
      },
      "source": [
        "# implementacion de algoritmo de entrenamiento conjunto de prueba del 25% sobre el total del dataset, algoritmo de optimizacion:\n",
        "# El \"lbfgs\" es un algoritmo de optimización que se aproxima al algoritmo de Broyden-Fletcher-Goldfarb-Shanno ,que pertenece a los métodos cuasi-Newton. \n",
        "#\"lbfgs\" se utiliza por defecto por su robustez.\n",
        "\n",
        "X_train,X_test,y_train,y_test= train_test_split(X_resampled1,y_resampled1,test_size= 0.20,random_state=1)"
      ],
      "execution_count": 25,
      "outputs": []
    },
    {
      "cell_type": "code",
      "metadata": {
        "id": "VdXrBqHYokM5"
      },
      "source": [
        "Arbol2=DecisionTreeClassifier(max_depth=5,random_state=1)\n",
        "Arbol2.fit(X_test,y_test)\n",
        "y_pred= Arbol2.predict(X_test)"
      ],
      "execution_count": 26,
      "outputs": []
    },
    {
      "cell_type": "code",
      "metadata": {
        "colab": {
          "base_uri": "https://localhost:8080/"
        },
        "id": "NaGRI5T6opF6",
        "outputId": "8b93b4b5-296d-4929-b429-2c6536ba68c5"
      },
      "source": [
        "#prediciendo los datos de prueba en base al modelo creado \n",
        "y_pred=Arbol2.predict(X_test)\n",
        "#Matriz de confusion \n",
        "Matriz_confusion= confusion_matrix(y_test,y_pred)\n",
        "print(Matriz_confusion)\n",
        "print(classification_report(y_test,y_pred))"
      ],
      "execution_count": 27,
      "outputs": [
        {
          "output_type": "stream",
          "name": "stdout",
          "text": [
            "[[37  0]\n",
            " [ 1 67]]\n",
            "              precision    recall  f1-score   support\n",
            "\n",
            "           0       0.97      1.00      0.99        37\n",
            "           1       1.00      0.99      0.99        68\n",
            "\n",
            "    accuracy                           0.99       105\n",
            "   macro avg       0.99      0.99      0.99       105\n",
            "weighted avg       0.99      0.99      0.99       105\n",
            "\n"
          ]
        }
      ]
    },
    {
      "cell_type": "code",
      "metadata": {
        "id": "i9KBYX5hBq7Z",
        "outputId": "718c4148-4f71-416a-a02b-9abdccfc0325",
        "colab": {
          "base_uri": "https://localhost:8080/"
        }
      },
      "source": [
        "#Matriz de confusion \n",
        "Matriz_confusion= confusion_matrix(y_test,y_pred)\n",
        "print(Matriz_confusion)\n",
        "print(classification_report(y_test,y_pred))"
      ],
      "execution_count": 28,
      "outputs": [
        {
          "output_type": "stream",
          "name": "stdout",
          "text": [
            "[[37  0]\n",
            " [ 1 67]]\n",
            "              precision    recall  f1-score   support\n",
            "\n",
            "           0       0.97      1.00      0.99        37\n",
            "           1       1.00      0.99      0.99        68\n",
            "\n",
            "    accuracy                           0.99       105\n",
            "   macro avg       0.99      0.99      0.99       105\n",
            "weighted avg       0.99      0.99      0.99       105\n",
            "\n"
          ]
        }
      ]
    },
    {
      "cell_type": "code",
      "metadata": {
        "id": "TiSoyDq1ygQO",
        "outputId": "d0e49e8a-3cb8-410c-97b6-af1fae25136a",
        "colab": {
          "base_uri": "https://localhost:8080/",
          "height": 326
        }
      },
      "source": [
        "#Mapa de calor de la Matriz de confusion\n",
        "def confusion(Matriz_confusion):\n",
        "    nombre_clase=[0,1]\n",
        "    fig,ax= plt.subplots()\n",
        "    tick_marks=np.arange(len(nombre_clase))\n",
        "    plt.xticks(tick_marks,nombre_clase)\n",
        "    plt.yticks(tick_marks,nombre_clase)\n",
        "\n",
        "    sns.heatmap(pd.DataFrame(Matriz_confusion),annot=True,cmap='YlGnBu',fmt='g')\n",
        "    ax.xaxis.set_label_position('top')\n",
        "    plt.tight_layout()\n",
        "    plt.title(\"Matriz de confusión\",y=1.1)\n",
        "    plt.ylabel('Etiqueta Actual')\n",
        "    plt.xlabel('Etiqueta Predicción')\n",
        "    #plt.savefig('confusion1.eps',format='eps',dpi=1200)\n",
        "confusion(Matriz_confusion)"
      ],
      "execution_count": 29,
      "outputs": [
        {
          "output_type": "display_data",
          "data": {
            "image/png": "[encoded data removed]",
            "text/plain": [
              "<Figure size 432x288 with 2 Axes>"
            ]
          },
          "metadata": {
            "needs_background": "light"
          }
        }
      ]
    },
    {
      "cell_type": "code",
      "metadata": {
        "id": "A7iyRwRIGUXb",
        "outputId": "2d04b704-a2c2-46a8-ab54-2e312e429c68",
        "colab": {
          "base_uri": "https://localhost:8080/",
          "height": 295
        }
      },
      "source": [
        "#Lo que estamos viendo es exactamente la curva ROC del clasificador. Y nos da bastante información: en primer lugar nos dice que aumentando o disminuyendo lo suficiente \n",
        "#el threshold podemos conseguir que nuestro algoritmo de clasificación alcance un TPR o un FPR casi perfecto.\n",
        "#Cuando AUC es 0.7, significa que hay 70% de probabilidad de que el modelo pueda distinguir entre clase positiva y clase negativa. Esta es la peor situación.\n",
        "#Cuando el AUC es aproximadamente 0.5, el modelo no tiene capacidad de discriminación para distinguir entre clase positiva y clase negativa.\n",
        "\n",
        "y_pred_prob= Arbol2.predict_proba(X_test)[:,1]\n",
        "fpr_1, tpr_1,tresholds1= roc_curve(y_test,y_pred_prob)\n",
        "auc_score_1 = roc_auc_score(y_test, y_pred_prob)\n",
        "plt.plot(fpr_1,tpr_1,label=\"ROC, auc=\"+str(round(auc_score_1,2)))\n",
        "plt.legend(loc=4)\n",
        "plt.plot([0,1],[0,1],'k--')\n",
        "plt.title(\"Curva ROC\")\n",
        "plt.plot(fpr_1,tpr_1,label='Regresión Logistica')\n",
        "plt.xlabel('tasa de falsos positivos (1-especificidad)')\n",
        "plt.ylabel('tasa de verdaderos positivos (Recall)')\n",
        "#plt.savefig('roc1.eps',format='eps', dpi=1200,transparent=True)\n",
        "plt.show()"
      ],
      "execution_count": 30,
      "outputs": [
        {
          "output_type": "display_data",
          "data": {
            "image/png": "[encoded data removed]",
            "text/plain": [
              "<Figure size 432x288 with 1 Axes>"
            ]
          },
          "metadata": {
            "needs_background": "light"
          }
        }
      ]
    },
    {
      "cell_type": "code",
      "metadata": {
        "colab": {
          "base_uri": "https://localhost:8080/",
          "height": 296
        },
        "id": "Gv8OkgzI8KPs",
        "outputId": "47e0631c-0643-4245-ca2d-c3f308fd8420"
      },
      "source": [
        "# predecimos probabilidades\n",
        "y_pred_prob= Arbol2.predict_proba(X_test)[:,1]\n",
        "# Sacamos los valores\n",
        "yhat = Arbol2.predict(X_test)\n",
        "lr_precision, lr_recall, _ = precision_recall_curve(y_test, y_pred_prob)\n",
        "lr_f1, lr_auc = f1_score(y_test, yhat), auc(lr_recall, lr_precision)\n",
        "# Resumimos \n",
        "print('Regresión Logística: f1=%.3f auc=%.3f' % (lr_f1, lr_auc))\n",
        "# trazar las curvas de recuperación de precisión\n",
        "no_skill = len(y_test[y_test==1]) / len(y_test)\n",
        "plt.plot([0, 1], [no_skill, no_skill], linestyle='--', label='Sin entrenar')\n",
        "plt.plot(lr_recall, lr_precision, marker='.', label='Regresión Logística')\n",
        "#Etiquetas de ejes\n",
        "plt.xlabel('Sensibilidad')\n",
        "plt.ylabel('Precisión')\n",
        "#plt.savefig('recall.eps',format='eps', dpi=1200,transparent=True)\n",
        "plt.legend()\n",
        "plt.show()\n",
        "\n",
        "\n"
      ],
      "execution_count": 31,
      "outputs": [
        {
          "output_type": "stream",
          "name": "stdout",
          "text": [
            "Regresión Logística: f1=0.993 auc=1.000\n"
          ]
        },
        {
          "output_type": "display_data",
          "data": {
            "image/png": "[encoded data removed]",
            "text/plain": [
              "<Figure size 432x288 with 1 Axes>"
            ]
          },
          "metadata": {
            "needs_background": "light"
          }
        }
      ]
    },
    {
      "cell_type": "markdown",
      "metadata": {
        "id": "E3ClUKxiishq"
      },
      "source": [
        "#Visualización"
      ]
    },
    {
      "cell_type": "code",
      "metadata": {
        "colab": {
          "base_uri": "https://localhost:8080/",
          "height": 796
        },
        "id": "xEDJJ35FmVX2",
        "outputId": "dae630fe-c9b5-47b9-f90b-099009041db5"
      },
      "source": [
        "import graphviz\n",
        "dot_data = export_graphviz(Arbol2,feature_names=variables_evaluadas)\n",
        "graph = graph_from_dot_data(dot_data)\n",
        "graph.write_png('tree.png')\n",
        "grafico=graphviz.Source(dot_data)\n",
        "grafico\n"
      ],
      "execution_count": 33,
      "outputs": [
        {
          "output_type": "execute_result",
          "data": {
            "text/plain": [
              "<graphviz.files.Source at 0x7f950a6d8e90>"
            ],
            "image/svg+xml": "<?xml version=\"1.0\" encoding=\"UTF-8\" standalone=\"no\"?>\n<!DOCTYPE svg PUBLIC \"-//W3C//DTD SVG 1.1//EN\"\n \"http://www.w3.org/Graphics/SVG/1.1/DTD/svg11.dtd\">\n<!-- Generated by graphviz version 2.40.1 (20161225.0304)\n -->\n<!-- Title: Tree Pages: 1 -->\n<svg width=\"674pt\" height=\"581pt\"\n viewBox=\"0.00 0.00 673.50 581.00\" xmlns=\"http://www.w3.org/2000/svg\" xmlns:xlink=\"http://www.w3.org/1999/xlink\">\n<g id=\"graph0\" class=\"graph\" transform=\"scale(1 1) rotate(0) translate(4 577)\">\n<title>Tree</title>\n<polygon fill=\"#ffffff\" stroke=\"transparent\" points=\"-4,4 -4,-577 669.5,-577 669.5,4 -4,4\"/>\n<!-- 0 -->\n<g id=\"node1\" class=\"node\">\n<title>0</title>\n<polygon fill=\"none\" stroke=\"#000000\" points=\"301,-573 165,-573 165,-505 301,-505 301,-573\"/>\n<text text-anchor=\"middle\" x=\"233\" y=\"-557.8\" font-family=\"Times,serif\" font-size=\"14.00\" fill=\"#000000\">Glucose &lt;= 127.431</text>\n<text text-anchor=\"middle\" x=\"233\" y=\"-542.8\" font-family=\"Times,serif\" font-size=\"14.00\" fill=\"#000000\">gini = 0.456</text>\n<text text-anchor=\"middle\" x=\"233\" y=\"-527.8\" font-family=\"Times,serif\" font-size=\"14.00\" fill=\"#000000\">samples = 105</text>\n<text text-anchor=\"middle\" x=\"233\" y=\"-512.8\" font-family=\"Times,serif\" font-size=\"14.00\" fill=\"#000000\">value = [37, 68]</text>\n</g>\n<!-- 1 -->\n<g id=\"node2\" class=\"node\">\n<title>1</title>\n<polygon fill=\"none\" stroke=\"#000000\" points=\"224,-469 114,-469 114,-401 224,-401 224,-469\"/>\n<text text-anchor=\"middle\" x=\"169\" y=\"-453.8\" font-family=\"Times,serif\" font-size=\"14.00\" fill=\"#000000\">Age &lt;= 29.5</text>\n<text text-anchor=\"middle\" x=\"169\" y=\"-438.8\" font-family=\"Times,serif\" font-size=\"14.00\" fill=\"#000000\">gini = 0.456</text>\n<text text-anchor=\"middle\" x=\"169\" y=\"-423.8\" font-family=\"Times,serif\" font-size=\"14.00\" fill=\"#000000\">samples = 54</text>\n<text text-anchor=\"middle\" x=\"169\" y=\"-408.8\" font-family=\"Times,serif\" font-size=\"14.00\" fill=\"#000000\">value = [35, 19]</text>\n</g>\n<!-- 0&#45;&gt;1 -->\n<g id=\"edge1\" class=\"edge\">\n<title>0&#45;&gt;1</title>\n<path fill=\"none\" stroke=\"#000000\" d=\"M212.044,-504.9465C206.6845,-496.2373 200.8539,-486.7626 195.2647,-477.6801\"/>\n<polygon fill=\"#000000\" stroke=\"#000000\" points=\"198.2249,-475.8122 190.0031,-469.13 192.2633,-479.481 198.2249,-475.8122\"/>\n<text text-anchor=\"middle\" x=\"184.2126\" y=\"-489.7502\" font-family=\"Times,serif\" font-size=\"14.00\" fill=\"#000000\">True</text>\n</g>\n<!-- 10 -->\n<g id=\"node11\" class=\"node\">\n<title>10</title>\n<polygon fill=\"none\" stroke=\"#000000\" points=\"351.5,-469 242.5,-469 242.5,-401 351.5,-401 351.5,-469\"/>\n<text text-anchor=\"middle\" x=\"297\" y=\"-453.8\" font-family=\"Times,serif\" font-size=\"14.00\" fill=\"#000000\">BMI &lt;= 24.434</text>\n<text text-anchor=\"middle\" x=\"297\" y=\"-438.8\" font-family=\"Times,serif\" font-size=\"14.00\" fill=\"#000000\">gini = 0.075</text>\n<text text-anchor=\"middle\" x=\"297\" y=\"-423.8\" font-family=\"Times,serif\" font-size=\"14.00\" fill=\"#000000\">samples = 51</text>\n<text text-anchor=\"middle\" x=\"297\" y=\"-408.8\" font-family=\"Times,serif\" font-size=\"14.00\" fill=\"#000000\">value = [2, 49]</text>\n</g>\n<!-- 0&#45;&gt;10 -->\n<g id=\"edge10\" class=\"edge\">\n<title>0&#45;&gt;10</title>\n<path fill=\"none\" stroke=\"#000000\" d=\"M253.956,-504.9465C259.3155,-496.2373 265.1461,-486.7626 270.7353,-477.6801\"/>\n<polygon fill=\"#000000\" stroke=\"#000000\" points=\"273.7367,-479.481 275.9969,-469.13 267.7751,-475.8122 273.7367,-479.481\"/>\n<text text-anchor=\"middle\" x=\"281.7874\" y=\"-489.7502\" font-family=\"Times,serif\" font-size=\"14.00\" fill=\"#000000\">False</text>\n</g>\n<!-- 2 -->\n<g id=\"node3\" class=\"node\">\n<title>2</title>\n<polygon fill=\"none\" stroke=\"#000000\" points=\"102,-357.5 0,-357.5 0,-304.5 102,-304.5 102,-357.5\"/>\n<text text-anchor=\"middle\" x=\"51\" y=\"-342.3\" font-family=\"Times,serif\" font-size=\"14.00\" fill=\"#000000\">gini = 0.0</text>\n<text text-anchor=\"middle\" x=\"51\" y=\"-327.3\" font-family=\"Times,serif\" font-size=\"14.00\" fill=\"#000000\">samples = 30</text>\n<text text-anchor=\"middle\" x=\"51\" y=\"-312.3\" font-family=\"Times,serif\" font-size=\"14.00\" fill=\"#000000\">value = [30, 0]</text>\n</g>\n<!-- 1&#45;&gt;2 -->\n<g id=\"edge2\" class=\"edge\">\n<title>1&#45;&gt;2</title>\n<path fill=\"none\" stroke=\"#000000\" d=\"M130.3624,-400.9465C116.9899,-389.1606 102.0266,-375.9726 88.7281,-364.2519\"/>\n<polygon fill=\"#000000\" stroke=\"#000000\" points=\"90.9315,-361.5285 81.1151,-357.5422 86.303,-366.7799 90.9315,-361.5285\"/>\n</g>\n<!-- 3 -->\n<g id=\"node4\" class=\"node\">\n<title>3</title>\n<polygon fill=\"none\" stroke=\"#000000\" points=\"222,-365 120,-365 120,-297 222,-297 222,-365\"/>\n<text text-anchor=\"middle\" x=\"171\" y=\"-349.8\" font-family=\"Times,serif\" font-size=\"14.00\" fill=\"#000000\">BMI &lt;= 26.25</text>\n<text text-anchor=\"middle\" x=\"171\" y=\"-334.8\" font-family=\"Times,serif\" font-size=\"14.00\" fill=\"#000000\">gini = 0.33</text>\n<text text-anchor=\"middle\" x=\"171\" y=\"-319.8\" font-family=\"Times,serif\" font-size=\"14.00\" fill=\"#000000\">samples = 24</text>\n<text text-anchor=\"middle\" x=\"171\" y=\"-304.8\" font-family=\"Times,serif\" font-size=\"14.00\" fill=\"#000000\">value = [5, 19]</text>\n</g>\n<!-- 1&#45;&gt;3 -->\n<g id=\"edge3\" class=\"edge\">\n<title>1&#45;&gt;3</title>\n<path fill=\"none\" stroke=\"#000000\" d=\"M169.6549,-400.9465C169.812,-392.776 169.9821,-383.9318 170.1467,-375.3697\"/>\n<polygon fill=\"#000000\" stroke=\"#000000\" points=\"173.6506,-375.1955 170.3437,-365.13 166.6519,-375.0608 173.6506,-375.1955\"/>\n</g>\n<!-- 4 -->\n<g id=\"node5\" class=\"node\">\n<title>4</title>\n<polygon fill=\"none\" stroke=\"#000000\" points=\"215.5,-253.5 120.5,-253.5 120.5,-200.5 215.5,-200.5 215.5,-253.5\"/>\n<text text-anchor=\"middle\" x=\"168\" y=\"-238.3\" font-family=\"Times,serif\" font-size=\"14.00\" fill=\"#000000\">gini = 0.0</text>\n<text text-anchor=\"middle\" x=\"168\" y=\"-223.3\" font-family=\"Times,serif\" font-size=\"14.00\" fill=\"#000000\">samples = 3</text>\n<text text-anchor=\"middle\" x=\"168\" y=\"-208.3\" font-family=\"Times,serif\" font-size=\"14.00\" fill=\"#000000\">value = [3, 0]</text>\n</g>\n<!-- 3&#45;&gt;4 -->\n<g id=\"edge4\" class=\"edge\">\n<title>3&#45;&gt;4</title>\n<path fill=\"none\" stroke=\"#000000\" d=\"M170.0177,-296.9465C169.7095,-286.2621 169.368,-274.4254 169.055,-263.5742\"/>\n<polygon fill=\"#000000\" stroke=\"#000000\" points=\"172.5526,-263.4371 168.7656,-253.5422 165.5555,-263.639 172.5526,-263.4371\"/>\n</g>\n<!-- 5 -->\n<g id=\"node6\" class=\"node\">\n<title>5</title>\n<polygon fill=\"none\" stroke=\"#000000\" points=\"362,-261 234,-261 234,-193 362,-193 362,-261\"/>\n<text text-anchor=\"middle\" x=\"298\" y=\"-245.8\" font-family=\"Times,serif\" font-size=\"14.00\" fill=\"#000000\">Glucose &lt;= 78.231</text>\n<text text-anchor=\"middle\" x=\"298\" y=\"-230.8\" font-family=\"Times,serif\" font-size=\"14.00\" fill=\"#000000\">gini = 0.172</text>\n<text text-anchor=\"middle\" x=\"298\" y=\"-215.8\" font-family=\"Times,serif\" font-size=\"14.00\" fill=\"#000000\">samples = 21</text>\n<text text-anchor=\"middle\" x=\"298\" y=\"-200.8\" font-family=\"Times,serif\" font-size=\"14.00\" fill=\"#000000\">value = [2, 19]</text>\n</g>\n<!-- 3&#45;&gt;5 -->\n<g id=\"edge5\" class=\"edge\">\n<title>3&#45;&gt;5</title>\n<path fill=\"none\" stroke=\"#000000\" d=\"M212.5845,-296.9465C223.9873,-287.6088 236.4647,-277.3911 248.2743,-267.7203\"/>\n<polygon fill=\"#000000\" stroke=\"#000000\" points=\"250.8026,-270.1736 256.322,-261.13 246.3676,-264.7578 250.8026,-270.1736\"/>\n</g>\n<!-- 6 -->\n<g id=\"node7\" class=\"node\">\n<title>6</title>\n<polygon fill=\"none\" stroke=\"#000000\" points=\"298.5,-149.5 203.5,-149.5 203.5,-96.5 298.5,-96.5 298.5,-149.5\"/>\n<text text-anchor=\"middle\" x=\"251\" y=\"-134.3\" font-family=\"Times,serif\" font-size=\"14.00\" fill=\"#000000\">gini = 0.0</text>\n<text text-anchor=\"middle\" x=\"251\" y=\"-119.3\" font-family=\"Times,serif\" font-size=\"14.00\" fill=\"#000000\">samples = 1</text>\n<text text-anchor=\"middle\" x=\"251\" y=\"-104.3\" font-family=\"Times,serif\" font-size=\"14.00\" fill=\"#000000\">value = [1, 0]</text>\n</g>\n<!-- 5&#45;&gt;6 -->\n<g id=\"edge6\" class=\"edge\">\n<title>5&#45;&gt;6</title>\n<path fill=\"none\" stroke=\"#000000\" d=\"M282.6104,-192.9465C277.6823,-182.0418 272.2118,-169.9368 267.226,-158.9043\"/>\n<polygon fill=\"#000000\" stroke=\"#000000\" points=\"270.3027,-157.2134 262.995,-149.5422 263.9239,-160.0962 270.3027,-157.2134\"/>\n</g>\n<!-- 7 -->\n<g id=\"node8\" class=\"node\">\n<title>7</title>\n<polygon fill=\"none\" stroke=\"#000000\" points=\"419,-157 317,-157 317,-89 419,-89 419,-157\"/>\n<text text-anchor=\"middle\" x=\"368\" y=\"-141.8\" font-family=\"Times,serif\" font-size=\"14.00\" fill=\"#000000\">Age &lt;= 30.5</text>\n<text text-anchor=\"middle\" x=\"368\" y=\"-126.8\" font-family=\"Times,serif\" font-size=\"14.00\" fill=\"#000000\">gini = 0.095</text>\n<text text-anchor=\"middle\" x=\"368\" y=\"-111.8\" font-family=\"Times,serif\" font-size=\"14.00\" fill=\"#000000\">samples = 20</text>\n<text text-anchor=\"middle\" x=\"368\" y=\"-96.8\" font-family=\"Times,serif\" font-size=\"14.00\" fill=\"#000000\">value = [1, 19]</text>\n</g>\n<!-- 5&#45;&gt;7 -->\n<g id=\"edge7\" class=\"edge\">\n<title>5&#45;&gt;7</title>\n<path fill=\"none\" stroke=\"#000000\" d=\"M320.9206,-192.9465C326.7826,-184.2373 333.1598,-174.7626 339.273,-165.6801\"/>\n<polygon fill=\"#000000\" stroke=\"#000000\" points=\"342.3476,-167.3802 345.0279,-157.13 336.5405,-163.4716 342.3476,-167.3802\"/>\n</g>\n<!-- 8 -->\n<g id=\"node9\" class=\"node\">\n<title>8</title>\n<polygon fill=\"none\" stroke=\"#000000\" points=\"356.5,-53 261.5,-53 261.5,0 356.5,0 356.5,-53\"/>\n<text text-anchor=\"middle\" x=\"309\" y=\"-37.8\" font-family=\"Times,serif\" font-size=\"14.00\" fill=\"#000000\">gini = 0.5</text>\n<text text-anchor=\"middle\" x=\"309\" y=\"-22.8\" font-family=\"Times,serif\" font-size=\"14.00\" fill=\"#000000\">samples = 2</text>\n<text text-anchor=\"middle\" x=\"309\" y=\"-7.8\" font-family=\"Times,serif\" font-size=\"14.00\" fill=\"#000000\">value = [1, 1]</text>\n</g>\n<!-- 7&#45;&gt;8 -->\n<g id=\"edge8\" class=\"edge\">\n<title>7&#45;&gt;8</title>\n<path fill=\"none\" stroke=\"#000000\" d=\"M347.1988,-88.9777C341.8242,-80.187 336.0265,-70.7044 330.6115,-61.8477\"/>\n<polygon fill=\"#000000\" stroke=\"#000000\" points=\"333.5564,-59.9545 325.354,-53.2485 327.5842,-63.6059 333.5564,-59.9545\"/>\n</g>\n<!-- 9 -->\n<g id=\"node10\" class=\"node\">\n<title>9</title>\n<polygon fill=\"none\" stroke=\"#000000\" points=\"477,-53 375,-53 375,0 477,0 477,-53\"/>\n<text text-anchor=\"middle\" x=\"426\" y=\"-37.8\" font-family=\"Times,serif\" font-size=\"14.00\" fill=\"#000000\">gini = 0.0</text>\n<text text-anchor=\"middle\" x=\"426\" y=\"-22.8\" font-family=\"Times,serif\" font-size=\"14.00\" fill=\"#000000\">samples = 18</text>\n<text text-anchor=\"middle\" x=\"426\" y=\"-7.8\" font-family=\"Times,serif\" font-size=\"14.00\" fill=\"#000000\">value = [0, 18]</text>\n</g>\n<!-- 7&#45;&gt;9 -->\n<g id=\"edge9\" class=\"edge\">\n<title>7&#45;&gt;9</title>\n<path fill=\"none\" stroke=\"#000000\" d=\"M388.4486,-88.9777C393.7322,-80.187 399.4316,-70.7044 404.7548,-61.8477\"/>\n<polygon fill=\"#000000\" stroke=\"#000000\" points=\"407.7715,-63.6225 409.9232,-53.2485 401.7718,-60.0165 407.7715,-63.6225\"/>\n</g>\n<!-- 11 -->\n<g id=\"node12\" class=\"node\">\n<title>11</title>\n<polygon fill=\"none\" stroke=\"#000000\" points=\"341.5,-357.5 246.5,-357.5 246.5,-304.5 341.5,-304.5 341.5,-357.5\"/>\n<text text-anchor=\"middle\" x=\"294\" y=\"-342.3\" font-family=\"Times,serif\" font-size=\"14.00\" fill=\"#000000\">gini = 0.0</text>\n<text text-anchor=\"middle\" x=\"294\" y=\"-327.3\" font-family=\"Times,serif\" font-size=\"14.00\" fill=\"#000000\">samples = 1</text>\n<text text-anchor=\"middle\" x=\"294\" y=\"-312.3\" font-family=\"Times,serif\" font-size=\"14.00\" fill=\"#000000\">value = [1, 0]</text>\n</g>\n<!-- 10&#45;&gt;11 -->\n<g id=\"edge11\" class=\"edge\">\n<title>10&#45;&gt;11</title>\n<path fill=\"none\" stroke=\"#000000\" d=\"M296.0177,-400.9465C295.7095,-390.2621 295.368,-378.4254 295.055,-367.5742\"/>\n<polygon fill=\"#000000\" stroke=\"#000000\" points=\"298.5526,-367.4371 294.7656,-357.5422 291.5555,-367.639 298.5526,-367.4371\"/>\n</g>\n<!-- 12 -->\n<g id=\"node13\" class=\"node\">\n<title>12</title>\n<polygon fill=\"none\" stroke=\"#000000\" points=\"512,-365 360,-365 360,-297 512,-297 512,-365\"/>\n<text text-anchor=\"middle\" x=\"436\" y=\"-349.8\" font-family=\"Times,serif\" font-size=\"14.00\" fill=\"#000000\">SkinThickness &lt;= 49.0</text>\n<text text-anchor=\"middle\" x=\"436\" y=\"-334.8\" font-family=\"Times,serif\" font-size=\"14.00\" fill=\"#000000\">gini = 0.039</text>\n<text text-anchor=\"middle\" x=\"436\" y=\"-319.8\" font-family=\"Times,serif\" font-size=\"14.00\" fill=\"#000000\">samples = 50</text>\n<text text-anchor=\"middle\" x=\"436\" y=\"-304.8\" font-family=\"Times,serif\" font-size=\"14.00\" fill=\"#000000\">value = [1, 49]</text>\n</g>\n<!-- 10&#45;&gt;12 -->\n<g id=\"edge12\" class=\"edge\">\n<title>10&#45;&gt;12</title>\n<path fill=\"none\" stroke=\"#000000\" d=\"M342.5138,-400.9465C355.234,-391.4293 369.176,-380.9978 382.3206,-371.163\"/>\n<polygon fill=\"#000000\" stroke=\"#000000\" points=\"384.4738,-373.9232 390.3839,-365.13 380.2802,-368.3184 384.4738,-373.9232\"/>\n</g>\n<!-- 13 -->\n<g id=\"node14\" class=\"node\">\n<title>13</title>\n<polygon fill=\"none\" stroke=\"#000000\" points=\"485,-253.5 383,-253.5 383,-200.5 485,-200.5 485,-253.5\"/>\n<text text-anchor=\"middle\" x=\"434\" y=\"-238.3\" font-family=\"Times,serif\" font-size=\"14.00\" fill=\"#000000\">gini = 0.0</text>\n<text text-anchor=\"middle\" x=\"434\" y=\"-223.3\" font-family=\"Times,serif\" font-size=\"14.00\" fill=\"#000000\">samples = 47</text>\n<text text-anchor=\"middle\" x=\"434\" y=\"-208.3\" font-family=\"Times,serif\" font-size=\"14.00\" fill=\"#000000\">value = [0, 47]</text>\n</g>\n<!-- 12&#45;&gt;13 -->\n<g id=\"edge13\" class=\"edge\">\n<title>12&#45;&gt;13</title>\n<path fill=\"none\" stroke=\"#000000\" d=\"M435.3451,-296.9465C435.1397,-286.2621 434.912,-274.4254 434.7034,-263.5742\"/>\n<polygon fill=\"#000000\" stroke=\"#000000\" points=\"438.2021,-263.473 434.5104,-253.5422 431.2034,-263.6076 438.2021,-263.473\"/>\n</g>\n<!-- 14 -->\n<g id=\"node15\" class=\"node\">\n<title>14</title>\n<polygon fill=\"none\" stroke=\"#000000\" points=\"639,-261 503,-261 503,-193 639,-193 639,-261\"/>\n<text text-anchor=\"middle\" x=\"571\" y=\"-245.8\" font-family=\"Times,serif\" font-size=\"14.00\" fill=\"#000000\">Glucose &lt;= 160.019</text>\n<text text-anchor=\"middle\" x=\"571\" y=\"-230.8\" font-family=\"Times,serif\" font-size=\"14.00\" fill=\"#000000\">gini = 0.444</text>\n<text text-anchor=\"middle\" x=\"571\" y=\"-215.8\" font-family=\"Times,serif\" font-size=\"14.00\" fill=\"#000000\">samples = 3</text>\n<text text-anchor=\"middle\" x=\"571\" y=\"-200.8\" font-family=\"Times,serif\" font-size=\"14.00\" fill=\"#000000\">value = [1, 2]</text>\n</g>\n<!-- 12&#45;&gt;14 -->\n<g id=\"edge14\" class=\"edge\">\n<title>12&#45;&gt;14</title>\n<path fill=\"none\" stroke=\"#000000\" d=\"M480.204,-296.9465C492.4416,-287.519 505.8436,-277.1946 518.5038,-267.4415\"/>\n<polygon fill=\"#000000\" stroke=\"#000000\" points=\"520.9107,-270.0055 526.6966,-261.13 516.6388,-264.4601 520.9107,-270.0055\"/>\n</g>\n<!-- 15 -->\n<g id=\"node16\" class=\"node\">\n<title>15</title>\n<polygon fill=\"none\" stroke=\"#000000\" points=\"552.5,-149.5 457.5,-149.5 457.5,-96.5 552.5,-96.5 552.5,-149.5\"/>\n<text text-anchor=\"middle\" x=\"505\" y=\"-134.3\" font-family=\"Times,serif\" font-size=\"14.00\" fill=\"#000000\">gini = 0.0</text>\n<text text-anchor=\"middle\" x=\"505\" y=\"-119.3\" font-family=\"Times,serif\" font-size=\"14.00\" fill=\"#000000\">samples = 1</text>\n<text text-anchor=\"middle\" x=\"505\" y=\"-104.3\" font-family=\"Times,serif\" font-size=\"14.00\" fill=\"#000000\">value = [1, 0]</text>\n</g>\n<!-- 14&#45;&gt;15 -->\n<g id=\"edge15\" class=\"edge\">\n<title>14&#45;&gt;15</title>\n<path fill=\"none\" stroke=\"#000000\" d=\"M549.3891,-192.9465C542.329,-181.8215 534.4761,-169.4473 527.3619,-158.237\"/>\n<polygon fill=\"#000000\" stroke=\"#000000\" points=\"530.1575,-156.1101 521.8441,-149.5422 524.2472,-159.8609 530.1575,-156.1101\"/>\n</g>\n<!-- 16 -->\n<g id=\"node17\" class=\"node\">\n<title>16</title>\n<polygon fill=\"none\" stroke=\"#000000\" points=\"665.5,-149.5 570.5,-149.5 570.5,-96.5 665.5,-96.5 665.5,-149.5\"/>\n<text text-anchor=\"middle\" x=\"618\" y=\"-134.3\" font-family=\"Times,serif\" font-size=\"14.00\" fill=\"#000000\">gini = 0.0</text>\n<text text-anchor=\"middle\" x=\"618\" y=\"-119.3\" font-family=\"Times,serif\" font-size=\"14.00\" fill=\"#000000\">samples = 2</text>\n<text text-anchor=\"middle\" x=\"618\" y=\"-104.3\" font-family=\"Times,serif\" font-size=\"14.00\" fill=\"#000000\">value = [0, 2]</text>\n</g>\n<!-- 14&#45;&gt;16 -->\n<g id=\"edge16\" class=\"edge\">\n<title>14&#45;&gt;16</title>\n<path fill=\"none\" stroke=\"#000000\" d=\"M586.3896,-192.9465C591.3177,-182.0418 596.7882,-169.9368 601.774,-158.9043\"/>\n<polygon fill=\"#000000\" stroke=\"#000000\" points=\"605.0761,-160.0962 606.005,-149.5422 598.6973,-157.2134 605.0761,-160.0962\"/>\n</g>\n</g>\n</svg>\n"
          },
          "metadata": {},
          "execution_count": 33
        }
      ]
    }
  ]
}